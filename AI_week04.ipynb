{
  "cells": [
    {
      "cell_type": "markdown",
      "metadata": {
        "id": "view-in-github",
        "colab_type": "text"
      },
      "source": [
        "<a href=\"https://colab.research.google.com/github/pichaicpc/colab/blob/main/AI_week04.ipynb\" target=\"_parent\"><img src=\"https://colab.research.google.com/assets/colab-badge.svg\" alt=\"Open In Colab\"/></a>"
      ]
    },
    {
      "cell_type": "markdown",
      "metadata": {
        "id": "-so7CFmjn0zn"
      },
      "source": [
        "## **การเขียนโปรแกรม Smart Speaker และ IoT อื่น ๆ**"
      ]
    },
    {
      "cell_type": "markdown",
      "source": [
        "**เอกสาร IoT**\n",
        "\n",
        "https://drive.google.com/file/d/1JqPsFvdC0EGAYJNmkiBJKfBO9HhZemZl/view?usp=sharing"
      ],
      "metadata": {
        "id": "3z8BJuF2CF38"
      }
    },
    {
      "cell_type": "markdown",
      "metadata": {
        "id": "NpO8-H-Do6Fs"
      },
      "source": [
        "### **1. การเขียนโปรแกรมควบคุม Smart Speaker**"
      ]
    },
    {
      "cell_type": "code",
      "execution_count": null,
      "metadata": {
        "id": "ubpQK0vZ7Ux-"
      },
      "outputs": [],
      "source": [
        "#------------------------------------------------------------------------------\n",
        "#Step 1. ติดตั้ง Python และ vertual environment\n",
        "#------------------------------------------------------------------------------\n",
        "#ติดตั้ง Python\n",
        "#1. สำหรับการติดตั้งบน windows\n",
        "#   ดาวน์โหลดไฟล์ได้จาก https://www.python.org/\n",
        "#   ทำการติดตั้งจากไฟล์ที่ดาวน์โหลดมา\n",
        "#   ตรวจสอบเวอร์ชันด้วยคำสั่ง c:\\ python --version\n",
        "#2. สำหรับการติดตั้งบน raspberry pi/linux (Optional)\n",
        "#   $ sudo apt install python3 idle3\n",
        "#   ตรวจสอบเวอร์ชันด้วยคำสั่ง c:\\ python --version\n",
        "\n",
        "#ติดตั้ง vertual environment (optional)\n",
        "#1. สำหรับการติดตั้งบน windows\n",
        "#   c:\\ python -m venv myenv #สำหรับสร้าง virtual env.\n",
        "#   c:\\ myenv\\Scripts\\activate #สำหรับ activate virtual env.\n",
        "#2. สำหรับการติดตั้งบน raspberry pi/linux\n",
        "#   $ python -m venv myenv #สำหรับสร้าง virtual env.\n",
        "#   $ source myenv/bin/activate #สำหรับ activate virtual env."
      ]
    },
    {
      "cell_type": "code",
      "execution_count": null,
      "metadata": {
        "id": "GtnwOtPMpC26"
      },
      "outputs": [],
      "source": [
        "#------------------------------------------------------------------------------\n",
        "#Step 2. ติดตั้ง python library ดังนี้\n",
        "#------------------------------------------------------------------------------\n",
        "# pip install SpeechRecognition   #Speech to Text\n",
        "# pip install google-generativeai #Text to Text\n",
        "# pip install gTTS                #Text to Speech\n",
        "# pip install pyaudio             #ใช้สำหรับการบันทึกเสียง\n",
        "# pip install pygame              #ใช้สำหรับให้เสียง\n",
        "\n",
        "# หมายเหตู :\n",
        "# pip install setuptools #แก้ปัญหา No module 'distutils' ใน SpeechRecognition\n",
        "# sudo apt install portaudio19-dev #แก้ปัญหา portaudio.h: No such file ใน pyaudio\n",
        "# set PYGAME_HIDE_SUPPORT_PROMPT=1 #ignore wanning from pygame (on Windows)\n",
        "# export PYGAME_HIDE_SUPPORT_PROMPT=1 #ignore wanning from pygame (On Linux)"
      ]
    },
    {
      "cell_type": "code",
      "execution_count": null,
      "metadata": {
        "id": "YWsJ_BV4xAw1"
      },
      "outputs": [],
      "source": [
        "#------------------------------------------------------------------------------\n",
        "#Step 3. ขอ Gemini API key\n",
        "#------------------------------------------------------------------------------\n",
        "#โดยเข้าไปขอได้จาก https://ai.google.dev/gemini-api/docs/api-key"
      ]
    },
    {
      "cell_type": "code",
      "execution_count": null,
      "metadata": {
        "id": "pam_LNQY8sXq"
      },
      "outputs": [],
      "source": [
        "#------------------------------------------------------------------------------\n",
        "#Step 4. ทดสอบการใช้งาน Speech to Text (English version)\n",
        "#------------------------------------------------------------------------------\n",
        "import speech_recognition as sr\n",
        "\n",
        "# Main loop for interactive voice input\n",
        "while True:\n",
        "    r = sr.Recognizer()\n",
        "\n",
        "    # Listen speech from microphone\n",
        "    with sr.Microphone() as source:\n",
        "        print(\"Speak now to Gemini...\")\n",
        "        audio = r.listen(source)\n",
        "\n",
        "    # Change speech to text\n",
        "    try:\n",
        "        text = r.recognize_google(audio, language='en')\n",
        "        print(\"You said:\", text)\n",
        "\n",
        "       # Exit loop if the user says \"stop\"\n",
        "        if \"stop\" in text.lower():\n",
        "            print(\"Stopping the loop...\")\n",
        "            break\n",
        "\n",
        "    except sr.UnknownValueError:\n",
        "        print(\"Could not understand audio\")\n",
        "    except sr.RequestError as e:\n",
        "        print(f\"Could not request results from speech recognition service; {e}\")\n",
        "\n",
        "#สร้างเป็นไฟล์ชื่อ text_speech.py แล้ว run ด้วยคำสั่ง\n",
        "#python text_speech.py\n",
        "\n",
        "#กรณีต้องการปิด warning ของ ALSA ใน raspberry pi ให้ run ด้วยคำสั่ง\n",
        "#python text_speech.py 2> /dev/null"
      ]
    },
    {
      "cell_type": "code",
      "execution_count": null,
      "metadata": {
        "id": "UOJ37tO-9WCM"
      },
      "outputs": [],
      "source": [
        "#------------------------------------------------------------------------------\n",
        "#Step 5. ทดสอบการใช้งาน Speech to Text (Thai version)\n",
        "#------------------------------------------------------------------------------\n",
        "import speech_recognition as sr\n",
        "\n",
        "# Main loop for interactive voice input\n",
        "while True:\n",
        "    r = sr.Recognizer()\n",
        "\n",
        "    # Listen speech from microphone\n",
        "    with sr.Microphone() as source:\n",
        "        print(\"Speak now to Gemini...\")\n",
        "        audio = r.listen(source)\n",
        "\n",
        "    # Change speech to text\n",
        "    try:\n",
        "        text = r.recognize_google(audio, language='th')\n",
        "        print(\"You said:\", text)\n",
        "\n",
        "       # Exit loop if the user says \"stop\"\n",
        "        if \"หยุด\" in text.lower():\n",
        "            print(\"Stopping the loop...\")\n",
        "            break\n",
        "\n",
        "    except sr.UnknownValueError:\n",
        "        print(\"Could not understand audio\")\n",
        "    except sr.RequestError as e:\n",
        "        print(f\"Could not request results from speech recognition service; {e}\")\n"
      ]
    },
    {
      "cell_type": "code",
      "execution_count": null,
      "metadata": {
        "id": "oNspFEpFwRxr"
      },
      "outputs": [],
      "source": [
        "#------------------------------------------------------------------------------\n",
        "#Step 6. ทดสอบการใช้งาน Text to Text (Gemini)\n",
        "#------------------------------------------------------------------------------\n",
        "import google.generativeai as genai\n",
        "\n",
        "# Retrieve API key from environment variable\n",
        "GOOGLE_GEMINI_API_KEY = 'GOOGLE_GEMINI_API_KEY'\n",
        "\n",
        "# Configure the Generative AI library\n",
        "genai.configure(api_key=GOOGLE_GEMINI_API_KEY)\n",
        "\n",
        "# Load the Gemini model\n",
        "model = genai.GenerativeModel('gemini-1.5-flash')\n",
        "\n",
        "# Prompt\n",
        "text = 'ปัญญาประดิษฐ์คืออะไร'\n",
        "\n",
        "# Response\n",
        "response = model.generate_content(text)\n",
        "print(\"Gemini:\", response.text)"
      ]
    },
    {
      "cell_type": "code",
      "execution_count": null,
      "metadata": {
        "id": "DWtM7L4i-tNs"
      },
      "outputs": [],
      "source": [
        "#------------------------------------------------------------------------------\n",
        "#Step 7. ทดสอบการใช้งาน Text to Speech (English version)\n",
        "#------------------------------------------------------------------------------\n",
        "from gtts import gTTS\n",
        "import pygame\n",
        "import os\n",
        "\n",
        "filename = 'output.mp3' # Define file name\n",
        "text = 'Hello, how are you?' # Get text\n",
        "\n",
        "tts = gTTS(text=text, lang='en')\n",
        "tts.save(filename) # Save the MP3 file\n",
        "\n",
        "# Play MP3 file\n",
        "pygame.mixer.init() # Initialize the mixer\n",
        "pygame.mixer.music.load(filename)\n",
        "pygame.mixer.music.play()\n",
        "while pygame.mixer.music.get_busy():\n",
        "    pygame.time.Clock().tick(10)\n",
        "pygame.mixer.quit()\n",
        "\n",
        "os.remove(filename) # Delete the file"
      ]
    },
    {
      "cell_type": "code",
      "execution_count": null,
      "metadata": {
        "id": "IPzUM6EkCNbL"
      },
      "outputs": [],
      "source": [
        "#------------------------------------------------------------------------------\n",
        "#Step 8. ทดสอบการใช้งาน Text to Speech (Thai version)\n",
        "#------------------------------------------------------------------------------\n",
        "from gtts import gTTS\n",
        "import pygame\n",
        "import os\n",
        "\n",
        "filename = 'output.mp3' # ตั้งชื่อไฟล์\n",
        "text = 'สวัสดี, คุณเป็นไงบ้าง?' # คำพูด\n",
        "\n",
        "tts = gTTS(text=text, lang='th')\n",
        "tts.save(filename) # บันทึกไฟล์เสียง\n",
        "\n",
        "# เล่นไฟล์เสียง\n",
        "pygame.mixer.init() # Initialize the mixer\n",
        "pygame.mixer.music.load(filename)\n",
        "pygame.mixer.music.play()\n",
        "while pygame.mixer.music.get_busy():\n",
        "    pygame.time.Clock().tick(10)\n",
        "pygame.mixer.quit()\n",
        "\n",
        "os.remove(filename) # ลบไฟล์เสียง"
      ]
    },
    {
      "cell_type": "code",
      "execution_count": null,
      "metadata": {
        "id": "LJ3cD7nooMpo"
      },
      "outputs": [],
      "source": [
        "#------------------------------------------------------------------------------\n",
        "#Step 9. Full Smart Speaker (English version)\n",
        "#------------------------------------------------------------------------------\n",
        "import speech_recognition as sr\n",
        "import google.generativeai as genai\n",
        "from gtts import gTTS\n",
        "import pygame\n",
        "import os\n",
        "\n",
        "# API key\n",
        "GOOGLE_GEMINI_API_KEY = 'YOUR_GOOGLE_GEMINI_API_KEY'\n",
        "\n",
        "# Configure the API key\n",
        "genai.configure(api_key=GOOGLE_GEMINI_API_KEY)\n",
        "\n",
        "# Load the Gemini model\n",
        "model = genai.GenerativeModel('gemini-1.5-flash')\n",
        "\n",
        "# Define MP3 file name\n",
        "filename = 'output.mp3'\n",
        "\n",
        "# Main loop for interactive voice input and response\n",
        "while True:\n",
        "    r = sr.Recognizer()\n",
        "    with sr.Microphone() as source:\n",
        "        print(\"Speak now to Gemini...\")\n",
        "        audio = r.listen(source)\n",
        "\n",
        "    try:\n",
        "        #Speech to text\n",
        "        text = r.recognize_google(audio, language='en')\n",
        "        print(\"You said:\", text)\n",
        "\n",
        "       # Exit loop if the user says \"stop\"\n",
        "        if \"stop\" in text.lower():\n",
        "            print(\"Stopping the loop...\")\n",
        "            break\n",
        "\n",
        "        # Text to text\n",
        "        response = model.generate_content(text)\n",
        "        print(\"Gemini:\", response.text)\n",
        "\n",
        "        # Text to speech\n",
        "        tts = gTTS(text=response.text, lang='en')\n",
        "        tts.save(filename) # Save the MP3 file\n",
        "\n",
        "        # Play MP3 file\n",
        "        pygame.mixer.init() # Initialize the mixer\n",
        "        pygame.mixer.music.load(filename)\n",
        "        pygame.mixer.music.play()\n",
        "        while pygame.mixer.music.get_busy():\n",
        "            pygame.time.Clock().tick(10)\n",
        "        pygame.mixer.quit()\n",
        "\n",
        "        os.remove(filename) # Delete the file\n",
        "\n",
        "    except sr.UnknownValueError:\n",
        "        print(\"Could not understand audio\")\n",
        "    except sr.RequestError as e:\n",
        "        print(f\"Could not request results from speech recognition service; {e}\")"
      ]
    },
    {
      "cell_type": "code",
      "execution_count": null,
      "metadata": {
        "id": "6YCEO9--n0Dv"
      },
      "outputs": [],
      "source": [
        "#------------------------------------------------------------------------------\n",
        "#Step 10. Full Smart Speaker (Thai version)\n",
        "#------------------------------------------------------------------------------\n",
        "import speech_recognition as sr\n",
        "import google.generativeai as genai\n",
        "from gtts import gTTS\n",
        "import pygame\n",
        "import os\n",
        "import re\n",
        "\n",
        "# API key\n",
        "GOOGLE_GEMINI_API_KEY = 'YOUR_GOOGLE_GEMINI_API_KEY'\n",
        "\n",
        "# Configure the API key\n",
        "genai.configure(api_key=GOOGLE_GEMINI_API_KEY)\n",
        "\n",
        "# Load the Gemini model\n",
        "model = genai.GenerativeModel('gemini-1.5-flash')\n",
        "\n",
        "# Define MP3 file name\n",
        "filename = 'output.mp3'\n",
        "\n",
        "# Main loop for interactive voice input and response\n",
        "while True:\n",
        "    r = sr.Recognizer()\n",
        "    with sr.Microphone() as source:\n",
        "        print(\"Speak now to Gemini...\")\n",
        "        audio = r.listen(source)\n",
        "\n",
        "    try:\n",
        "        #Speech to text\n",
        "        text = r.recognize_google(audio, language='th')\n",
        "        print(\"You said:\", text)\n",
        "\n",
        "       # Exit loop if the user says \"stop\"\n",
        "        if \"หยุด\" in text.lower():\n",
        "            print(\"Stopping the loop...\")\n",
        "            break\n",
        "\n",
        "        # Text to text\n",
        "        response = model.generate_content(text)\n",
        "        print(\"Gemini:\", response.text)\n",
        "\n",
        "        # Remove Markdown formatting\n",
        "        clean_text = re.sub(r'[*_`~#]', '', response.text)\n",
        "\n",
        "        # Text to speech\n",
        "        tts = gTTS(text=clean_text, lang='th')\n",
        "        tts.save(filename) # Save the MP3 file\n",
        "\n",
        "        # Play MP3 file\n",
        "        pygame.mixer.init() # Initialize the mixer\n",
        "        pygame.mixer.music.load(filename)\n",
        "        pygame.mixer.music.play()\n",
        "        while pygame.mixer.music.get_busy():\n",
        "            pygame.time.Clock().tick(10)\n",
        "        pygame.mixer.quit()\n",
        "\n",
        "        os.remove(filename) # Delete the file\n",
        "\n",
        "    except sr.UnknownValueError:\n",
        "        print(\"Could not understand audio\")\n",
        "    except sr.RequestError as e:\n",
        "        print(f\"Could not request results from speech recognition service; {e}\")"
      ]
    },
    {
      "cell_type": "markdown",
      "metadata": {
        "id": "st2NYjIQn8m_"
      },
      "source": [
        "### **2. การเขียนโปรแกรมควบคุม เซ็นเซอร์วัดอุณหภูมิ/ความชื้น DHT22**"
      ]
    },
    {
      "cell_type": "code",
      "source": [
        "# save to dht.py\n",
        "import time\n",
        "import board\n",
        "import adafruit_dht\n",
        "\n",
        "# Initial the dht device, with data pin connected to:\n",
        "dhtDevice = adafruit_dht.DHT22(board.D2)\n",
        "\n",
        "\n",
        "while True:\n",
        "    try:\n",
        "        # Print the values to the serial port\n",
        "        temperature_c = dhtDevice.temperature\n",
        "        temperature_f = temperature_c * (9 / 5) + 32\n",
        "        humidity = dhtDevice.humidity\n",
        "        print(\n",
        "            \"Temp: {:.1f} F / {:.1f} C    Humidity: {}% \".format(\n",
        "                temperature_f, temperature_c, humidity\n",
        "            )\n",
        "        )\n",
        "\n",
        "    except RuntimeError as error:\n",
        "        # Errors happen fairly often, DHT's are hard to read, just keep going\n",
        "        print(error.args[0])\n",
        "        time.sleep(2.0)\n",
        "        continue\n",
        "    except Exception as error:\n",
        "        dhtDevice.exit()\n",
        "        raise error\n",
        "\n",
        "    time.sleep(2.0)"
      ],
      "metadata": {
        "id": "ORIHRC9atpwt"
      },
      "execution_count": null,
      "outputs": []
    },
    {
      "cell_type": "markdown",
      "metadata": {
        "id": "KWM-_q9joGs5"
      },
      "source": [
        "### **3. การเขียนโปรแกรมควบคุม ไฟ LED**"
      ]
    },
    {
      "cell_type": "code",
      "source": [
        "# save to led.py\n",
        "import RPi.GPIO as GPIO\n",
        "import time\n",
        "\n",
        "# Use the Broadcom pin numbering scheme (BCM)\n",
        "GPIO.setmode(GPIO.BCM)\n",
        "\n",
        "# Set up GPIO Pin 4 as an output pin\n",
        "LED_PIN = 4\n",
        "GPIO.setup(LED_PIN, GPIO.OUT)\n",
        "\n",
        "try:\n",
        "    while True:\n",
        "        # Turn the LED on\n",
        "        GPIO.output(LED_PIN, GPIO.HIGH)\n",
        "        print(\"LED is ON\")\n",
        "        time.sleep(1)  # Keep the LED on for 1 second\n",
        "\n",
        "        # Turn the LED off\n",
        "        GPIO.output(LED_PIN, GPIO.LOW)\n",
        "        print(\"LED is OFF\")\n",
        "        time.sleep(1)  # Keep the LED off for 1 second\n",
        "\n",
        "except KeyboardInterrupt:\n",
        "    # If the user presses Ctrl+C, break out of the loop and clean up\n",
        "    print(\"Program stopped by user\")\n",
        "\n",
        "finally:\n",
        "    # Clean up the GPIO settings before exiting\n",
        "    GPIO.cleanup()"
      ],
      "metadata": {
        "id": "F-_U4dzAt164"
      },
      "execution_count": null,
      "outputs": []
    },
    {
      "cell_type": "markdown",
      "source": [
        "### **4. การเขียนโปรแกรมรับส่งข้อมูลระหว่าง Raspberry Pi กับ Arduino**"
      ],
      "metadata": {
        "id": "u6Jo_Y4cjVzx"
      }
    },
    {
      "cell_type": "code",
      "source": [
        "// Save to i2c\n",
        "#include <Wire.h>\n",
        "\n",
        "void setup() {\n",
        "  Wire.begin(0x08); // กำหนดที่อยู่ I2C ของ Arduino\n",
        "  Wire.onRequest(requestEvent); // ฟังก์ชันเมื่อมีการขอข้อมูลจาก Master\n",
        "}\n",
        "\n",
        "void requestEvent() {\n",
        "  Wire.write(\"Hello Pi!\"); // ข้อความที่ส่งไปยัง Raspberry Pi\n",
        "}\n",
        "\n",
        "void loop() {\n",
        "  delay(1000);\n",
        "}"
      ],
      "metadata": {
        "id": "ELbY1aX9jjQ1"
      },
      "execution_count": null,
      "outputs": []
    },
    {
      "cell_type": "code",
      "source": [
        "# save to i2c.py\n",
        "from smbus2 import SMBus\n",
        "import time\n",
        "\n",
        "bus = SMBus(1)  # ใช้ bus 1 สำหรับ I2C\n",
        "arduino_address = 0x08  # ที่อยู่ของ Arduino\n",
        "\n",
        "while True:\n",
        "    # อ่านข้อมูลจาก Arduino ขนาด 16 bytes จาก register address\n",
        "    # หมายเลข 0 ซึ่งเป็นหมายเลขเริ่มต้น\n",
        "    data = bus.read_i2c_block_data(arduino_address, 0, 16)\n",
        "\n",
        "    # นำค่าแต่และ byte มาเชื่อมต่อกัน และกรองค่าที่เป็น 255 (ÿ) ออก\n",
        "    # ค่า 255 เกิดจาก arduino ส่งค่ามาไม่ถึง 16 bytes\n",
        "    data_str = ''.join(chr(i) for i in data if i != 255)\n",
        "    print(\"Data from Arduino: \", data_str)  # แสดงข้อมูล\n",
        "    time.sleep(1)"
      ],
      "metadata": {
        "id": "C1tpPXJCk6lf"
      },
      "execution_count": null,
      "outputs": []
    },
    {
      "cell_type": "markdown",
      "source": [
        "### **5. การเขียนโปรแกรมควบคุมระดับน้ำ**"
      ],
      "metadata": {
        "id": "LhcFCqZbciSj"
      }
    },
    {
      "cell_type": "code",
      "source": [
        "// save to water_level.ino\n",
        "#include <Wire.h>\n",
        "\n",
        "int analogPin = A0;  // ขาอะนาล็อกที่ต่อกับเซนเซอร์วัดระดับน้ำ\n",
        "int val = 0;  // ตัวแปรเก็บค่าระดับน้ำที่อ่านได้\n",
        "\n",
        "void setup() {\n",
        "  Wire.begin(0x08);  // กำหนดที่อยู่ I2C ของ Arduino (0x08)\n",
        "  Wire.onRequest(requestEvent);  // ฟังก์ชันเมื่อมีการขอข้อมูลจาก Raspberry Pi\n",
        "}\n",
        "\n",
        "void requestEvent() {\n",
        "  val = analogRead(analogPin);  // อ่านค่าระดับน้ำจากเซนเซอร์ (0 - 1023)\n",
        "  String water_level = String(val);  // แปลงค่าเป็นสตริง\n",
        "  Wire.write(water_level.c_str());  // ส่งข้อมูลสตริงไปยัง Raspberry Pi\n",
        "}\n",
        "\n",
        "void loop() {\n",
        "  delay(1000);  // หน่วงเวลาเพื่อรอคำขอจาก Raspberry Pi\n",
        "}"
      ],
      "metadata": {
        "id": "Uk1dyiumjw_r"
      },
      "execution_count": null,
      "outputs": []
    },
    {
      "cell_type": "code",
      "source": [
        "# save to water_level.py\n",
        "from smbus2 import SMBus\n",
        "import time\n",
        "\n",
        "bus = SMBus(1)  # ใช้ bus 1 สำหรับ I2C\n",
        "arduino_address = 0x08  # ที่อยู่ของ Arduino\n",
        "\n",
        "while True:\n",
        "    # อ่านข้อมูลจาก Arduino ขนาด 16 bytes จาก register address\n",
        "    # หมายเลข 0 ซึ่งเป็นหมายเลขเริ่มต้น\n",
        "    data = bus.read_i2c_block_data(arduino_address, 0, 16)\n",
        "\n",
        "    # นำค่าแต่และ byte มาเชื่อมต่อกัน และกรองค่าที่เป็น 255 (ÿ) ออก\n",
        "    # ค่า 255 เกิดจาก arduino ส่งค่ามาไม่ถึง 16 bytes\n",
        "    data_str = ''.join(chr(i) for i in data if i != 255)\n",
        "    print(\"Data from Arduino: \", data_str)  # แสดงข้อมูล\n",
        "    time.sleep(1)"
      ],
      "metadata": {
        "id": "58bRilLwc5J-"
      },
      "execution_count": null,
      "outputs": []
    },
    {
      "cell_type": "markdown",
      "source": [
        "### **6. การเขียนโปรแกรมควบคุมระดับน้ำ (ส่งเสียงออกลำโพง)**"
      ],
      "metadata": {
        "id": "mnjLaakJ6Hmd"
      }
    },
    {
      "cell_type": "code",
      "source": [
        "# save to water_speaker.py\n",
        "from smbus2 import SMBus\n",
        "import time\n",
        "from gtts import gTTS\n",
        "import pygame\n",
        "import os\n",
        "\n",
        "bus = SMBus(1)  # ใช้ bus 1 สำหรับ I2C\n",
        "arduino_address = 0x08  # ที่อยู่ของ Arduino\n",
        "\n",
        "while True:\n",
        "    data = bus.read_i2c_block_data(arduino_address, 0, 16)\n",
        "    data_str = ''.join(chr(i) for i in data if i != 255)\n",
        "    print(\"Data from Arduino: \", data_str)  # แสดงข้อมูล\n",
        "    try:\n",
        "        # แปลงสตริงเป็น integer\n",
        "        water_level = int(data_str)\n",
        "        if water_level > 500:\n",
        "            filename = 'output.mp3' # ตั้งชื่อไฟล์\n",
        "            text = 'ระดับน้ำมากเกินไป' # คำพูด\n",
        "            tts = gTTS(text=text, lang='th')\n",
        "            tts.save(filename) # บันทึกไฟล์เสียง\n",
        "\n",
        "            # เล่นไฟล์เสียง\n",
        "            pygame.mixer.init() # Initialize the mixer\n",
        "            pygame.mixer.music.load(filename)\n",
        "            pygame.mixer.music.play()\n",
        "            while pygame.mixer.music.get_busy():\n",
        "                pygame.time.Clock().tick(10)\n",
        "            pygame.mixer.quit()\n",
        "\n",
        "            os.remove(filename) # ลบไฟล์เสียง\n",
        "            time.sleep(60)\n",
        "\n",
        "    except ValueError:\n",
        "        # หากข้อมูลไม่สามารถแปลงเป็น integer ได้ (ไม่ใช่ตัวเลขล้วน)\n",
        "        print(\"Invalid data received:\", data_str)\n",
        "\n",
        "\n",
        "    time.sleep(1)"
      ],
      "metadata": {
        "id": "i69ZuUwL6H-f"
      },
      "execution_count": null,
      "outputs": []
    },
    {
      "cell_type": "markdown",
      "source": [
        "### **7 การเขียนโปรแกรมรับส่งข้อมูลระหว่าง Raspberry Pi กับ ESP32**"
      ],
      "metadata": {
        "id": "qKT-fcUrhnz7"
      }
    },
    {
      "cell_type": "code",
      "source": [
        "// save to i2c_esp32.ino\n",
        "#include <Wire.h>\n",
        "\n",
        "void setup() {\n",
        "  Wire.begin(0x08); // กำหนดที่อยู่ I2C ของ Arduino\n",
        "  Wire.onRequest(requestEvent); // ฟังก์ชันเมื่อมีการขอข้อมูลจาก Master\n",
        "}\n",
        "\n",
        "void requestEvent() {\n",
        "  const char* message = \"Hello Pi!\";\n",
        "  Wire.write((uint8_t*)message, strlen(message)); // ส่งข้อความที่แปลงเป็น uint8_t\n",
        "}\n",
        "\n",
        "void loop() {\n",
        "  delay(1000);\n",
        "}\n",
        "\n"
      ],
      "metadata": {
        "id": "vIxqmejbhn9D"
      },
      "execution_count": null,
      "outputs": []
    }
  ],
  "metadata": {
    "colab": {
      "provenance": [],
      "collapsed_sections": [
        "NpO8-H-Do6Fs",
        "st2NYjIQn8m_",
        "KWM-_q9joGs5",
        "u6Jo_Y4cjVzx",
        "LhcFCqZbciSj"
      ],
      "include_colab_link": true
    },
    "kernelspec": {
      "display_name": "Python 3",
      "name": "python3"
    },
    "language_info": {
      "codemirror_mode": {
        "name": "ipython",
        "version": 3
      },
      "file_extension": ".py",
      "mimetype": "text/x-python",
      "name": "python",
      "nbconvert_exporter": "python",
      "pygments_lexer": "ipython3",
      "version": "3.12.5"
    }
  },
  "nbformat": 4,
  "nbformat_minor": 0
}