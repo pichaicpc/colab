{
  "cells": [
    {
      "cell_type": "markdown",
      "metadata": {
        "id": "view-in-github",
        "colab_type": "text"
      },
      "source": [
        "<a href=\"https://colab.research.google.com/github/pichaicpc/colab/blob/main/AI_week04.ipynb\" target=\"_parent\"><img src=\"https://colab.research.google.com/assets/colab-badge.svg\" alt=\"Open In Colab\"/></a>"
      ]
    },
    {
      "cell_type": "markdown",
      "metadata": {
        "id": "-so7CFmjn0zn"
      },
      "source": [
        "## **การเขียนโปรแกรม Smart Speaker และ IoT อื่น ๆ**"
      ]
    },
    {
      "cell_type": "markdown",
      "source": [
        "**เอกสาร IoT**\n",
        "\n",
        "https://drive.google.com/file/d/1JqPsFvdC0EGAYJNmkiBJKfBO9HhZemZl/view?usp=sharing"
      ],
      "metadata": {
        "id": "3z8BJuF2CF38"
      }
    },
    {
      "cell_type": "markdown",
      "metadata": {
        "id": "NpO8-H-Do6Fs"
      },
      "source": [
        "### **1. การเขียนโปรแกรมควบคุม Smart Speaker**"
      ]
    },
    {
      "cell_type": "code",
      "execution_count": null,
      "metadata": {
        "id": "ubpQK0vZ7Ux-"
      },
      "outputs": [],
      "source": [
        "#------------------------------------------------------------------------------\n",
        "#Step 1. ติดตั้ง Python และ vertual environment\n",
        "#------------------------------------------------------------------------------\n",
        "#ติดตั้ง Python\n",
        "#1. สำหรับการติดตั้งบน windows\n",
        "#   ดาวน์โหลดไฟล์ได้จาก https://www.python.org/\n",
        "#   ทำการติดตั้งจากไฟล์ที่ดาวน์โหลดมา\n",
        "#   ตรวจสอบเวอร์ชันด้วยคำสั่ง c:\\ python --version\n",
        "#2. สำหรับการติดตั้งบน raspberry pi/linux (Optional)\n",
        "#   $ sudo apt install python3 idle3\n",
        "#   ตรวจสอบเวอร์ชันด้วยคำสั่ง c:\\ python --version\n",
        "\n",
        "#ติดตั้ง vertual environment (optional)\n",
        "#1. สำหรับการติดตั้งบน windows\n",
        "#   c:\\ python -m venv myenv #สำหรับสร้าง virtual env.\n",
        "#   c:\\ myenv\\Scripts\\activate #สำหรับ activate virtual env.\n",
        "#2. สำหรับการติดตั้งบน raspberry pi/linux\n",
        "#   $ python -m venv myenv #สำหรับสร้าง virtual env.\n",
        "#   $ source myenv/bin/activate #สำหรับ activate virtual env."
      ]
    },
    {
      "cell_type": "code",
      "execution_count": null,
      "metadata": {
        "id": "GtnwOtPMpC26"
      },
      "outputs": [],
      "source": [
        "#------------------------------------------------------------------------------\n",
        "#Step 2. ติดตั้ง python library ดังนี้\n",
        "#------------------------------------------------------------------------------\n",
        "# pip install SpeechRecognition   #Speech to Text\n",
        "# pip install google-generativeai #Text to Text\n",
        "# pip install gTTS                #Text to Speech\n",
        "# pip install pyaudio             #ใช้สำหรับการบันทึกเสียง\n",
        "# pip install pygame              #ใช้สำหรับให้เสียง\n",
        "\n",
        "# หมายเหตู :\n",
        "# pip install setuptools #แก้ปัญหา No module 'distutils' ใน SpeechRecognition\n",
        "# sudo apt install portaudio19-dev #แก้ปัญหา portaudio.h: No such file ใน pyaudio\n",
        "# set PYGAME_HIDE_SUPPORT_PROMPT=1 #ignore wanning from pygame (on Windows)\n",
        "# export PYGAME_HIDE_SUPPORT_PROMPT=1 #ignore wanning from pygame (On Linux)"
      ]
    },
    {
      "cell_type": "code",
      "execution_count": null,
      "metadata": {
        "id": "YWsJ_BV4xAw1"
      },
      "outputs": [],
      "source": [
        "#------------------------------------------------------------------------------\n",
        "#Step 3. ขอ Gemini API key\n",
        "#------------------------------------------------------------------------------\n",
        "#โดยเข้าไปขอได้จาก https://ai.google.dev/gemini-api/docs/api-key"
      ]
    },
    {
      "cell_type": "code",
      "execution_count": null,
      "metadata": {
        "id": "pam_LNQY8sXq"
      },
      "outputs": [],
      "source": [
        "#------------------------------------------------------------------------------\n",
        "#Step 4. ทดสอบการใช้งาน Speech to Text (English version)\n",
        "#------------------------------------------------------------------------------\n",
        "import speech_recognition as sr\n",
        "\n",
        "# Main loop for interactive voice input\n",
        "while True:\n",
        "    r = sr.Recognizer()\n",
        "\n",
        "    # Listen speech from microphone\n",
        "    with sr.Microphone() as source:\n",
        "        print(\"Speak now to Gemini...\")\n",
        "        audio = r.listen(source)\n",
        "\n",
        "    # Change speech to text\n",
        "    try:\n",
        "        text = r.recognize_google(audio, language='en')\n",
        "        print(\"You said:\", text)\n",
        "\n",
        "       # Exit loop if the user says \"stop\"\n",
        "        if \"stop\" in text.lower():\n",
        "            print(\"Stopping the loop...\")\n",
        "            break\n",
        "\n",
        "    except sr.UnknownValueError:\n",
        "        print(\"Could not understand audio\")\n",
        "    except sr.RequestError as e:\n",
        "        print(f\"Could not request results from speech recognition service; {e}\")\n",
        "\n",
        "#สร้างเป็นไฟล์ชื่อ text_speech.py แล้ว run ด้วยคำสั่ง\n",
        "#python text_speech.py\n",
        "\n",
        "#กรณีต้องการปิด warning ของ ALSA ใน raspberry pi ให้ run ด้วยคำสั่ง\n",
        "#python text_speech.py 2> /dev/null"
      ]
    },
    {
      "cell_type": "code",
      "execution_count": null,
      "metadata": {
        "id": "UOJ37tO-9WCM"
      },
      "outputs": [],
      "source": [
        "#------------------------------------------------------------------------------\n",
        "#Step 5. ทดสอบการใช้งาน Speech to Text (Thai version)\n",
        "#------------------------------------------------------------------------------\n",
        "import speech_recognition as sr\n",
        "\n",
        "# Main loop for interactive voice input\n",
        "while True:\n",
        "    r = sr.Recognizer()\n",
        "\n",
        "    # Listen speech from microphone\n",
        "    with sr.Microphone() as source:\n",
        "        print(\"Speak now to Gemini...\")\n",
        "        audio = r.listen(source)\n",
        "\n",
        "    # Change speech to text\n",
        "    try:\n",
        "        text = r.recognize_google(audio, language='th')\n",
        "        print(\"You said:\", text)\n",
        "\n",
        "       # Exit loop if the user says \"stop\"\n",
        "        if \"หยุด\" in text.lower():\n",
        "            print(\"Stopping the loop...\")\n",
        "            break\n",
        "\n",
        "    except sr.UnknownValueError:\n",
        "        print(\"Could not understand audio\")\n",
        "    except sr.RequestError as e:\n",
        "        print(f\"Could not request results from speech recognition service; {e}\")\n"
      ]
    },
    {
      "cell_type": "code",
      "execution_count": null,
      "metadata": {
        "id": "oNspFEpFwRxr"
      },
      "outputs": [],
      "source": [
        "#------------------------------------------------------------------------------\n",
        "#Step 6. ทดสอบการใช้งาน Text to Text (Gemini)\n",
        "#------------------------------------------------------------------------------\n",
        "import google.generativeai as genai\n",
        "\n",
        "# Retrieve API key from environment variable\n",
        "GOOGLE_GEMINI_API_KEY = 'GOOGLE_GEMINI_API_KEY'\n",
        "\n",
        "# Configure the Generative AI library\n",
        "genai.configure(api_key=GOOGLE_GEMINI_API_KEY)\n",
        "\n",
        "# Load the Gemini model\n",
        "model = genai.GenerativeModel('gemini-1.5-flash')\n",
        "\n",
        "# Prompt\n",
        "text = 'ปัญญาประดิษฐ์คืออะไร'\n",
        "\n",
        "# Response\n",
        "response = model.generate_content(text)\n",
        "print(\"Gemini:\", response.text)"
      ]
    },
    {
      "cell_type": "code",
      "execution_count": null,
      "metadata": {
        "id": "DWtM7L4i-tNs"
      },
      "outputs": [],
      "source": [
        "#------------------------------------------------------------------------------\n",
        "#Step 7. ทดสอบการใช้งาน Text to Speech (English version)\n",
        "#------------------------------------------------------------------------------\n",
        "from gtts import gTTS\n",
        "import pygame\n",
        "import os\n",
        "\n",
        "filename = 'output.mp3' # Define file name\n",
        "text = 'Hello, how are you?' # Get text\n",
        "\n",
        "tts = gTTS(text=text, lang='en')\n",
        "tts.save(filename) # Save the MP3 file\n",
        "\n",
        "# Play MP3 file\n",
        "pygame.mixer.init() # Initialize the mixer\n",
        "pygame.mixer.music.load(filename)\n",
        "pygame.mixer.music.play()\n",
        "while pygame.mixer.music.get_busy():\n",
        "    pygame.time.Clock().tick(10)\n",
        "pygame.mixer.quit()\n",
        "\n",
        "os.remove(filename) # Delete the file"
      ]
    },
    {
      "cell_type": "code",
      "execution_count": null,
      "metadata": {
        "id": "IPzUM6EkCNbL"
      },
      "outputs": [],
      "source": [
        "#------------------------------------------------------------------------------\n",
        "#Step 8. ทดสอบการใช้งาน Text to Speech (Thai version)\n",
        "#------------------------------------------------------------------------------\n",
        "from gtts import gTTS\n",
        "import pygame\n",
        "import os\n",
        "\n",
        "filename = 'output.mp3' # ตั้งชื่อไฟล์\n",
        "text = 'สวัสดี, คุณเป็นไงบ้าง?' # คำพูด\n",
        "\n",
        "tts = gTTS(text=text, lang='th')\n",
        "tts.save(filename) # บันทึกไฟล์เสียง\n",
        "\n",
        "# เล่นไฟล์เสียง\n",
        "pygame.mixer.init() # Initialize the mixer\n",
        "pygame.mixer.music.load(filename)\n",
        "pygame.mixer.music.play()\n",
        "while pygame.mixer.music.get_busy():\n",
        "    pygame.time.Clock().tick(10)\n",
        "pygame.mixer.quit()\n",
        "\n",
        "os.remove(filename) # ลบไฟล์เสียง"
      ]
    },
    {
      "cell_type": "code",
      "execution_count": null,
      "metadata": {
        "id": "LJ3cD7nooMpo"
      },
      "outputs": [],
      "source": [
        "#------------------------------------------------------------------------------\n",
        "#Step 9. Full Smart Speaker (English version)\n",
        "#------------------------------------------------------------------------------\n",
        "import speech_recognition as sr\n",
        "import google.generativeai as genai\n",
        "from gtts import gTTS\n",
        "import pygame\n",
        "import os\n",
        "\n",
        "# API key\n",
        "GOOGLE_GEMINI_API_KEY = 'YOUR_GOOGLE_GEMINI_API_KEY'\n",
        "\n",
        "# Configure the API key\n",
        "genai.configure(api_key=GOOGLE_GEMINI_API_KEY)\n",
        "\n",
        "# Load the Gemini model\n",
        "model = genai.GenerativeModel('gemini-1.5-flash')\n",
        "\n",
        "# Define MP3 file name\n",
        "filename = 'output.mp3'\n",
        "\n",
        "# Main loop for interactive voice input and response\n",
        "while True:\n",
        "    r = sr.Recognizer()\n",
        "    with sr.Microphone() as source:\n",
        "        print(\"Speak now to Gemini...\")\n",
        "        audio = r.listen(source)\n",
        "\n",
        "    try:\n",
        "        #Speech to text\n",
        "        text = r.recognize_google(audio, language='en')\n",
        "        print(\"You said:\", text)\n",
        "\n",
        "       # Exit loop if the user says \"stop\"\n",
        "        if \"stop\" in text.lower():\n",
        "            print(\"Stopping the loop...\")\n",
        "            break\n",
        "\n",
        "        # Text to text\n",
        "        response = model.generate_content(text)\n",
        "        print(\"Gemini:\", response.text)\n",
        "\n",
        "        # Text to speech\n",
        "        tts = gTTS(text=response.text, lang='en')\n",
        "        tts.save(filename) # Save the MP3 file\n",
        "\n",
        "        # Play MP3 file\n",
        "        pygame.mixer.init() # Initialize the mixer\n",
        "        pygame.mixer.music.load(filename)\n",
        "        pygame.mixer.music.play()\n",
        "        while pygame.mixer.music.get_busy():\n",
        "            pygame.time.Clock().tick(10)\n",
        "        pygame.mixer.quit()\n",
        "\n",
        "        os.remove(filename) # Delete the file\n",
        "\n",
        "    except sr.UnknownValueError:\n",
        "        print(\"Could not understand audio\")\n",
        "    except sr.RequestError as e:\n",
        "        print(f\"Could not request results from speech recognition service; {e}\")"
      ]
    },
    {
      "cell_type": "code",
      "execution_count": null,
      "metadata": {
        "id": "6YCEO9--n0Dv"
      },
      "outputs": [],
      "source": [
        "#------------------------------------------------------------------------------\n",
        "#Step 10. Full Smart Speaker (Thai version)\n",
        "#------------------------------------------------------------------------------\n",
        "import speech_recognition as sr\n",
        "import google.generativeai as genai\n",
        "from gtts import gTTS\n",
        "import pygame\n",
        "import os\n",
        "import re\n",
        "\n",
        "# API key\n",
        "GOOGLE_GEMINI_API_KEY = 'YOUR_GOOGLE_GEMINI_API_KEY'\n",
        "\n",
        "# Configure the API key\n",
        "genai.configure(api_key=GOOGLE_GEMINI_API_KEY)\n",
        "\n",
        "# Load the Gemini model\n",
        "model = genai.GenerativeModel('gemini-1.5-flash')\n",
        "\n",
        "# Define MP3 file name\n",
        "filename = 'output.mp3'\n",
        "\n",
        "# Main loop for interactive voice input and response\n",
        "while True:\n",
        "    r = sr.Recognizer()\n",
        "    with sr.Microphone() as source:\n",
        "        print(\"Speak now to Gemini...\")\n",
        "        audio = r.listen(source)\n",
        "\n",
        "    try:\n",
        "        #Speech to text\n",
        "        text = r.recognize_google(audio, language='th')\n",
        "        print(\"You said:\", text)\n",
        "\n",
        "       # Exit loop if the user says \"stop\"\n",
        "        if \"หยุด\" in text.lower():\n",
        "            print(\"Stopping the loop...\")\n",
        "            break\n",
        "\n",
        "        # Text to text\n",
        "        response = model.generate_content(text)\n",
        "        print(\"Gemini:\", response.text)\n",
        "\n",
        "        # Remove Markdown formatting\n",
        "        clean_text = re.sub(r'[*_`~#]', '', response.text)\n",
        "\n",
        "        # Text to speech\n",
        "        tts = gTTS(text=clean_text, lang='th')\n",
        "        tts.save(filename) # Save the MP3 file\n",
        "\n",
        "        # Play MP3 file\n",
        "        pygame.mixer.init() # Initialize the mixer\n",
        "        pygame.mixer.music.load(filename)\n",
        "        pygame.mixer.music.play()\n",
        "        while pygame.mixer.music.get_busy():\n",
        "            pygame.time.Clock().tick(10)\n",
        "        pygame.mixer.quit()\n",
        "\n",
        "        os.remove(filename) # Delete the file\n",
        "\n",
        "    except sr.UnknownValueError:\n",
        "        print(\"Could not understand audio\")\n",
        "    except sr.RequestError as e:\n",
        "        print(f\"Could not request results from speech recognition service; {e}\")"
      ]
    },
    {
      "cell_type": "markdown",
      "metadata": {
        "id": "st2NYjIQn8m_"
      },
      "source": [
        "### **2. การเขียนโปรแกรมควบคุม เซ็นเซอร์วัดอุณหภูมิ/ความชื้น DHT22**"
      ]
    },
    {
      "cell_type": "code",
      "source": [
        "# save to dht.py\n",
        "import time\n",
        "import board\n",
        "import adafruit_dht\n",
        "\n",
        "# Initial the dht device, with data pin connected to:\n",
        "dhtDevice = adafruit_dht.DHT22(board.D2)\n",
        "\n",
        "\n",
        "while True:\n",
        "    try:\n",
        "        # Print the values to the serial port\n",
        "        temperature_c = dhtDevice.temperature\n",
        "        temperature_f = temperature_c * (9 / 5) + 32\n",
        "        humidity = dhtDevice.humidity\n",
        "        print(\n",
        "            \"Temp: {:.1f} F / {:.1f} C    Humidity: {}% \".format(\n",
        "                temperature_f, temperature_c, humidity\n",
        "            )\n",
        "        )\n",
        "\n",
        "    except RuntimeError as error:\n",
        "        # Errors happen fairly often, DHT's are hard to read, just keep going\n",
        "        print(error.args[0])\n",
        "        time.sleep(2.0)\n",
        "        continue\n",
        "    except Exception as error:\n",
        "        dhtDevice.exit()\n",
        "        raise error\n",
        "\n",
        "    time.sleep(2.0)"
      ],
      "metadata": {
        "id": "ORIHRC9atpwt"
      },
      "execution_count": null,
      "outputs": []
    },
    {
      "cell_type": "markdown",
      "metadata": {
        "id": "KWM-_q9joGs5"
      },
      "source": [
        "### **3. การเขียนโปรแกรมควบคุม ไฟ LED**"
      ]
    },
    {
      "cell_type": "code",
      "source": [
        "# save to led.py\n",
        "import RPi.GPIO as GPIO\n",
        "import time\n",
        "\n",
        "# Use the Broadcom pin numbering scheme (BCM)\n",
        "GPIO.setmode(GPIO.BCM)\n",
        "\n",
        "# Set up GPIO Pin 4 as an output pin\n",
        "LED_PIN = 4\n",
        "GPIO.setup(LED_PIN, GPIO.OUT)\n",
        "\n",
        "try:\n",
        "    while True:\n",
        "        # Turn the LED on\n",
        "        GPIO.output(LED_PIN, GPIO.HIGH)\n",
        "        print(\"LED is ON\")\n",
        "        time.sleep(1)  # Keep the LED on for 1 second\n",
        "\n",
        "        # Turn the LED off\n",
        "        GPIO.output(LED_PIN, GPIO.LOW)\n",
        "        print(\"LED is OFF\")\n",
        "        time.sleep(1)  # Keep the LED off for 1 second\n",
        "\n",
        "except KeyboardInterrupt:\n",
        "    # If the user presses Ctrl+C, break out of the loop and clean up\n",
        "    print(\"Program stopped by user\")\n",
        "\n",
        "finally:\n",
        "    # Clean up the GPIO settings before exiting\n",
        "    GPIO.cleanup()"
      ],
      "metadata": {
        "id": "F-_U4dzAt164"
      },
      "execution_count": null,
      "outputs": []
    },
    {
      "cell_type": "markdown",
      "source": [
        "### **4. การเขียนโปรแกรมรับส่งข้อมูลระหว่าง Raspberry Pi กับ Arduino**"
      ],
      "metadata": {
        "id": "u6Jo_Y4cjVzx"
      }
    },
    {
      "cell_type": "code",
      "source": [
        "// Save to i2c\n",
        "#include <Wire.h>\n",
        "\n",
        "void setup() {\n",
        "  Wire.begin(0x08); // กำหนดที่อยู่ I2C ของ Arduino\n",
        "  Wire.onRequest(requestEvent); // ฟังก์ชันเมื่อมีการขอข้อมูลจาก Master\n",
        "}\n",
        "\n",
        "void requestEvent() {\n",
        "  Wire.write(\"Hello Pi!\"); // ข้อความที่ส่งไปยัง Raspberry Pi\n",
        "}\n",
        "\n",
        "void loop() {\n",
        "  delay(1000);\n",
        "}"
      ],
      "metadata": {
        "id": "ELbY1aX9jjQ1"
      },
      "execution_count": null,
      "outputs": []
    },
    {
      "cell_type": "code",
      "source": [
        "# save to i2c.py\n",
        "from smbus2 import SMBus\n",
        "import time\n",
        "\n",
        "bus = SMBus(1)  # ใช้ bus 1 สำหรับ I2C\n",
        "arduino_address = 0x08  # ที่อยู่ของ Arduino\n",
        "\n",
        "while True:\n",
        "    # อ่านข้อมูลจาก Arduino ขนาด 16 bytes จาก register address\n",
        "    # หมายเลข 0 ซึ่งเป็นหมายเลขเริ่มต้น\n",
        "    data = bus.read_i2c_block_data(arduino_address, 0, 16)\n",
        "\n",
        "    # นำค่าแต่และ byte มาเชื่อมต่อกัน และกรองค่าที่เป็น 255 (ÿ) ออก\n",
        "    # ค่า 255 เกิดจาก arduino ส่งค่ามาไม่ถึง 16 bytes\n",
        "    data_str = ''.join(chr(i) for i in data if i != 255)\n",
        "    print(\"Data from Arduino: \", data_str)  # แสดงข้อมูล\n",
        "    time.sleep(1)"
      ],
      "metadata": {
        "id": "C1tpPXJCk6lf"
      },
      "execution_count": null,
      "outputs": []
    },
    {
      "cell_type": "markdown",
      "source": [
        "### **5. การเขียนโปรแกรมควบคุมระดับน้ำ โดยส่งค่าจาก Arduno ไปยัง Raspberry Pi**"
      ],
      "metadata": {
        "id": "LhcFCqZbciSj"
      }
    },
    {
      "cell_type": "code",
      "source": [
        "// save to water_level.ino\n",
        "#include <Wire.h>\n",
        "\n",
        "int analogPin = A0;  // ขาอะนาล็อกที่ต่อกับเซนเซอร์วัดระดับน้ำ\n",
        "int val = 0;  // ตัวแปรเก็บค่าระดับน้ำที่อ่านได้\n",
        "\n",
        "void setup() {\n",
        "  Wire.begin(0x08);  // กำหนดที่อยู่ I2C ของ Arduino (0x08)\n",
        "  Wire.onRequest(requestEvent);  // ฟังก์ชันเมื่อมีการขอข้อมูลจาก Raspberry Pi\n",
        "}\n",
        "\n",
        "void requestEvent() {\n",
        "  val = analogRead(analogPin);  // อ่านค่าระดับน้ำจากเซนเซอร์ (0 - 1023)\n",
        "  String water_level = String(val);  // แปลงค่าเป็นสตริง\n",
        "  Wire.write(water_level.c_str());  // ส่งข้อมูลสตริงไปยัง Raspberry Pi\n",
        "}\n",
        "\n",
        "void loop() {\n",
        "  delay(1000);  // หน่วงเวลาเพื่อรอคำขอจาก Raspberry Pi\n",
        "}"
      ],
      "metadata": {
        "id": "Uk1dyiumjw_r"
      },
      "execution_count": null,
      "outputs": []
    },
    {
      "cell_type": "code",
      "source": [
        "# save to water_level.py\n",
        "from smbus2 import SMBus\n",
        "import time\n",
        "\n",
        "bus = SMBus(1)  # ใช้ bus 1 สำหรับ I2C\n",
        "arduino_address = 0x08  # ที่อยู่ของ Arduino\n",
        "\n",
        "while True:\n",
        "    # อ่านข้อมูลจาก Arduino ขนาด 16 bytes จาก register address\n",
        "    # หมายเลข 0 ซึ่งเป็นหมายเลขเริ่มต้น\n",
        "    data = bus.read_i2c_block_data(arduino_address, 0, 16)\n",
        "\n",
        "    # นำค่าแต่และ byte มาเชื่อมต่อกัน และกรองค่าที่เป็น 255 (ÿ) ออก\n",
        "    # ค่า 255 เกิดจาก arduino ส่งค่ามาไม่ถึง 16 bytes\n",
        "    data_str = ''.join(chr(i) for i in data if i != 255)\n",
        "    print(\"Data from Arduino: \", data_str)  # แสดงข้อมูล\n",
        "    time.sleep(1)"
      ],
      "metadata": {
        "id": "58bRilLwc5J-"
      },
      "execution_count": null,
      "outputs": []
    },
    {
      "cell_type": "markdown",
      "source": [
        "### **6. การเขียนโปรแกรมควบคุมระดับน้ำ (ส่งเสียงออกลำโพง)  โดยส่งค่าจาก Arduno ไปยัง Raspberry Pi**"
      ],
      "metadata": {
        "id": "mnjLaakJ6Hmd"
      }
    },
    {
      "cell_type": "code",
      "source": [
        "# save to water_speaker.py\n",
        "from smbus2 import SMBus\n",
        "import time\n",
        "from gtts import gTTS\n",
        "import pygame\n",
        "import os\n",
        "\n",
        "bus = SMBus(1)  # ใช้ bus 1 สำหรับ I2C\n",
        "arduino_address = 0x08  # ที่อยู่ของ Arduino\n",
        "\n",
        "while True:\n",
        "    data = bus.read_i2c_block_data(arduino_address, 0, 16)\n",
        "    data_str = ''.join(chr(i) for i in data if i != 255)\n",
        "    print(\"Data from Arduino: \", data_str)  # แสดงข้อมูล\n",
        "    try:\n",
        "        # แปลงสตริงเป็น integer\n",
        "        water_level = int(data_str)\n",
        "        if water_level > 500:\n",
        "            filename = 'output.mp3' # ตั้งชื่อไฟล์\n",
        "            text = 'ระดับน้ำมากเกินไป' # คำพูด\n",
        "            tts = gTTS(text=text, lang='th')\n",
        "            tts.save(filename) # บันทึกไฟล์เสียง\n",
        "\n",
        "            # เล่นไฟล์เสียง\n",
        "            pygame.mixer.init() # Initialize the mixer\n",
        "            pygame.mixer.music.load(filename)\n",
        "            pygame.mixer.music.play()\n",
        "            while pygame.mixer.music.get_busy():\n",
        "                pygame.time.Clock().tick(10)\n",
        "            pygame.mixer.quit()\n",
        "\n",
        "            os.remove(filename) # ลบไฟล์เสียง\n",
        "            time.sleep(60)\n",
        "\n",
        "    except ValueError:\n",
        "        # หากข้อมูลไม่สามารถแปลงเป็น integer ได้ (ไม่ใช่ตัวเลขล้วน)\n",
        "        print(\"Invalid data received:\", data_str)\n",
        "\n",
        "\n",
        "    time.sleep(1)"
      ],
      "metadata": {
        "id": "i69ZuUwL6H-f"
      },
      "execution_count": null,
      "outputs": []
    },
    {
      "cell_type": "markdown",
      "source": [
        "### **7 การเขียนโปรแกรมรับส่งข้อมูลระหว่าง Raspberry Pi กับ ESP32**"
      ],
      "metadata": {
        "id": "qKT-fcUrhnz7"
      }
    },
    {
      "cell_type": "code",
      "source": [
        "// save to i2c_esp32.ino\n",
        "#include <Wire.h>\n",
        "\n",
        "void setup() {\n",
        "  Wire.begin(0x08); // กำหนดที่อยู่ I2C ของ ESP32\n",
        "  Wire.onRequest(requestEvent); // ฟังก์ชันเมื่อมีการขอข้อมูลจาก Master\n",
        "}\n",
        "\n",
        "void requestEvent() {\n",
        "  const char* message = \"Hello Pi!\";\n",
        "  Wire.write((uint8_t*)message, strlen(message)); // ส่งข้อความที่แปลงเป็น uint8_t\n",
        "}\n",
        "\n",
        "void loop() {\n",
        "  delay(1000);\n",
        "}\n",
        "\n"
      ],
      "metadata": {
        "id": "vIxqmejbhn9D"
      },
      "execution_count": null,
      "outputs": []
    },
    {
      "cell_type": "markdown",
      "source": [
        "### **8. การเขียนโปรแกรมวัดค่าระดับน้ำ โดยส่งค่าจาก ADS1115 ไปยัง Raspberry Pi**"
      ],
      "metadata": {
        "id": "xlLuyXqKNrs0"
      }
    },
    {
      "cell_type": "code",
      "source": [
        "import time\n",
        "import board\n",
        "import busio\n",
        "from adafruit_ads1x15.analog_in import AnalogIn\n",
        "import adafruit_ads1x15.ads1015 as ADS\n",
        "\n",
        "# ตั้งค่า I2C\n",
        "i2c = busio.I2C(board.SCL, board.SDA)\n",
        "ads = ADS.ADS1015(i2c)\n",
        "\n",
        "# ตั้งค่า Channel สำหรับเซ็นเซอร์วัดระดับน้ำ (A0)\n",
        "water_level = AnalogIn(ads, ADS.P0)\n",
        "\n",
        "print(\"Reading water level...\")\n",
        "print(\"-\" * 30)\n",
        "\n",
        "\n",
        "# วนลูปอ่านค่า\n",
        "while True:\n",
        "    # อ่านค่าแรงดัน\n",
        "    #value = water_level.value  # ค่า RAW จาก ADC\n",
        "    voltage = water_level.voltage  # ค่าแรงดันไฟฟ้า\n",
        "\n",
        "    # calibrate\n",
        "    if voltage >= 3.45:\n",
        "       level_percent = 100\n",
        "    elif voltage >= 3.3:\n",
        "       level_percent = 75\n",
        "    elif voltage >= 3.25:\n",
        "       level_percent = 50\n",
        "    elif voltage >= 2.8:\n",
        "       level_percent = 25\n",
        "    elif voltage >= 2.5:\n",
        "       level_percent = 12.5\n",
        "    else:\n",
        "       level_percent = 0\n",
        "\n",
        "    print(f\"Water Level: {level_percent:.1f}% Raw value: {voltage}\")\n",
        "\n",
        "    time.sleep(1)"
      ],
      "metadata": {
        "id": "WQZUYuslNr9O"
      },
      "execution_count": null,
      "outputs": []
    },
    {
      "cell_type": "markdown",
      "source": [
        "### **8. การเขียนโปรแกรมรับส่งข้อมูลระหว่าง Raspberry Pi กับ Blynk**"
      ],
      "metadata": {
        "id": "ItuKJMxtXAN1"
      }
    },
    {
      "cell_type": "code",
      "source": [
        "#------------------------------------------------------------------------------\n",
        "#ขั้นตอนการติดตั้ง Blynk\n",
        "#------------------------------------------------------------------------------\n",
        "# 1. สร้าง tempate จาก https://blynk.cloud/\n",
        "\n",
        "# 2. เพิ่ม device และ dashboard จาก https://blynk.cloud/ หรือจาก\n",
        "#    https://apps.apple.com/th/app/blynk-iot/id1559317868?l=th\n",
        "#    https://play.google.com/store/apps/details?id=cloud.blynk&hl=en\n",
        "\n",
        "# 3. ติดตั้ง blynk library\n",
        "# $ source myenv/bin/activate\n",
        "# $ git clone https://github.com/vshymanskyy/blynk-library-python\n",
        "# $ cd blynk-library-python\n",
        "# $ pip install ."
      ],
      "metadata": {
        "id": "tsCLZ0KfYFrX"
      },
      "execution_count": null,
      "outputs": []
    },
    {
      "cell_type": "code",
      "source": [
        "# create and run blynk.py\n",
        "import BlynkLib\n",
        "import time\n",
        "import random\n",
        "\n",
        "blynk = BlynkLib.Blynk('YOUR_AUTHEN_TOKEN')\n",
        "\n",
        "\n",
        "@blynk.on(\"V1\")\n",
        "def v1_write_handler(value):\n",
        "    print('Current slider value: {}'.format(value[0]))\n",
        "\n",
        "start_time = time.time()\n",
        "while True:\n",
        "    blynk.run()\n",
        "\n",
        "    t = time.time()\n",
        "    if t - start_time > 1:\n",
        "        #print(\"1 sec elapsed, sending data to V0 on the server...\")\n",
        "        blynk.virtual_write(0, random.randint(0, 1023))\n",
        "        start_time += 1"
      ],
      "metadata": {
        "id": "orkYMkUBXP64"
      },
      "execution_count": null,
      "outputs": []
    },
    {
      "cell_type": "markdown",
      "source": [
        "### **9. การเขียนโปรแกรมรับส่งข้อมูลระหว่าง Raspberry Pi กับ Netpie**"
      ],
      "metadata": {
        "id": "D5jtf3M0OJ78"
      }
    },
    {
      "cell_type": "code",
      "source": [
        "#------------------------------------------------------------------------------\n",
        "#ขั้นตอนการติดตั้ง Netpie\n",
        "#------------------------------------------------------------------------------\n",
        "# 1. สร้าง project จาก https://netpie.io/\n",
        "\n",
        "# 2. เพิ่ม device และ dashboard จาก https://netpie.io/ หรือเพิ่ม dashboard จาก\n",
        "#  https://play.google.com/store/apps/details?id=com.nexpie.piedash.netpie&hl=en\n",
        "#  https://apps.apple.com/th/app/netpie/id6445916537\n",
        "\n",
        "# 3. ติดตั้ง mqtt library\n",
        "# $ source myenv/bin/activate\n",
        "# $ pip install paho-mqtt"
      ],
      "metadata": {
        "id": "O1UVGxC_Owc2"
      },
      "execution_count": null,
      "outputs": []
    },
    {
      "cell_type": "markdown",
      "source": [
        "![a3.png](data:image/png;base64,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)"
      ],
      "metadata": {
        "id": "15sHK7zUT1Pt"
      }
    },
    {
      "cell_type": "markdown",
      "source": [
        "![a.png](data:image/png;base64,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)"
      ],
      "metadata": {
        "id": "-qBU1S0rSI8d"
      }
    },
    {
      "cell_type": "markdown",
      "source": [
        "![b.png](data:image/png;base64,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)"
      ],
      "metadata": {
        "id": "YiirSJgCSVSe"
      }
    },
    {
      "cell_type": "code",
      "source": [
        "import time\n",
        "import paho.mqtt.client as mqtt\n",
        "import json\n",
        "import random\n",
        "\n",
        "\n",
        "NETPIE_HOST = \"broker.netpie.io\"\n",
        "CLIENT_ID = \"YOUR_CLIENT_ID\"\n",
        "DEVICE_TOKEN = \"YOUR_DEVICE_TOKEN\"\n",
        "\n",
        "sensor_data = {'temperature': 0, 'humidity': 0}\n",
        "\n",
        "def on_connect(client, userdata, flags, rc):\n",
        "    print(\"Result from connect: {}\".format(\n",
        "        mqtt.connack_string(rc)))\n",
        "    #client.subscribe(\"@shadow/data/updated\")\n",
        "    client.subscribe(\"@msg/led\")\n",
        "\n",
        "def on_message(client, userdata, msg):\n",
        "    light = msg.payload.decode('utf-8')\n",
        "    print(light)\n",
        "    if light == \"on\":\n",
        "       print(\"Light is on\")\n",
        "    else:\n",
        "       print(\"Light is off\")\n",
        "\n",
        "client = mqtt.Client(protocol=mqtt.MQTTv311,\n",
        "                     client_id=CLIENT_ID, clean_session=True)\n",
        "client.username_pw_set(DEVICE_TOKEN)\n",
        "client.on_connect = on_connect\n",
        "client.on_message = on_message\n",
        "client.connect(NETPIE_HOST, 1883)\n",
        "client.loop_start()\n",
        "\n",
        "try:\n",
        "    while True:\n",
        "        humidity = random.randint(0, 1023)\n",
        "        temperature = random.randint(0, 100)\n",
        "\n",
        "        if humidity is not None and temperature is not None:\n",
        "            print(f\"Temperature: {temperature}\\u00b0C, Humidity: {humidity}\")\n",
        "            sensor_data['temperature'] = temperature\n",
        "            sensor_data['humidity'] = humidity\n",
        "\n",
        "            client.publish('@shadow/data/update', json.dumps({\"data\": sensor_data}), 1)\n",
        "            time.sleep(5)\n",
        "        else:\n",
        "            print('Failed to get reading. Try again!')\n",
        "except KeyboardInterrupt:\n",
        "    pass\n",
        "\n",
        "client.loop_start()\n",
        "client.disconnect()"
      ],
      "metadata": {
        "id": "ItSxiITIOLL4"
      },
      "execution_count": null,
      "outputs": []
    },
    {
      "cell_type": "markdown",
      "source": [
        "### **10. การเขียนโปรแกรมแจ้งเตือน ด้วย Line Notification**"
      ],
      "metadata": {
        "id": "zIZAQ4s7ibai"
      }
    },
    {
      "cell_type": "code",
      "source": [
        "#สำหรับส่งเฉพาะข้อความ\n",
        "#https://notify-bot.line.me/en/\n",
        "import requests\n",
        "\n",
        "def send_line_notification(token, message):\n",
        "    url = \"https://notify-api.line.me/api/notify\"\n",
        "    headers = {\n",
        "        \"Authorization\": f\"Bearer {token}\",\n",
        "    }\n",
        "    data = {\n",
        "        \"message\": message\n",
        "    }\n",
        "\n",
        "    try:\n",
        "        response = requests.post(url, headers=headers, data=data)\n",
        "        response.raise_for_status()  # Raise an exception for HTTP errors\n",
        "        print(\"Notification sent successfully!\")\n",
        "    except requests.exceptions.RequestException as e:\n",
        "        print(f\"Error sending notification: {e}\")\n",
        "\n",
        "# Example usage\n",
        "line_token = \"YOUR_LINE_NOTIFY_ACCESS_TOKEN\"\n",
        "message = \"Hello! This is a test notification from Python.\"\n",
        "send_line_notification(line_token, message)"
      ],
      "metadata": {
        "id": "MgCXzKI6lUkt"
      },
      "execution_count": null,
      "outputs": []
    },
    {
      "cell_type": "code",
      "source": [
        "#สำหรับส่งทั้งข้อความและภาพ\n",
        "import requests\n",
        "\n",
        "def send_line_notification(token, message, image_path):\n",
        "    url = \"https://notify-api.line.me/api/notify\"\n",
        "    headers = {\"Authorization\": f\"Bearer {token}\"}\n",
        "    data = {\"message\": message}\n",
        "    files = {\"imageFile\": open(image_path, \"rb\")}\n",
        "\n",
        "    try:\n",
        "        response = requests.post(url, headers=headers, data=data, files=files)\n",
        "        response.raise_for_status()  # Raise an exception for HTTP errors\n",
        "        print(\"Notification sent successfully!\")\n",
        "    except requests.exceptions.RequestException as e:\n",
        "        print(f\"Error sending notification: {e}\")\n",
        "\n",
        "# Example usage\n",
        "line_token = \"YOUR_LINE_NOTIFY_ACCESS_TOKEN\"\n",
        "message = \"Hello! This is a test notification from Python.\"\n",
        "image_path = \"image01.jpg\"\n",
        "send_line_notification(line_token, message, image_path)"
      ],
      "metadata": {
        "id": "DY6RwBejn4uq"
      },
      "execution_count": null,
      "outputs": []
    },
    {
      "cell_type": "markdown",
      "source": [
        "### **11. การเขียนโปรแกรมตรวจจับผู้บุกรุกด้วย Webcam และ OpenCV แล้วแจ้งเตือนด้วย Line Notification**"
      ],
      "metadata": {
        "id": "RCpC_OQVrJI5"
      }
    },
    {
      "cell_type": "code",
      "source": [
        "#ติดตั้ง OpenCV\n",
        "#sudo apt update\n",
        "#sudo apt install -y python3-dev python3-pip cmake build-essential libjpeg-dev libpng-dev libtiff-dev libavcodec-dev libavformat-dev libswscale-dev libv4l-dev libxvidcore-dev libx264-dev libgtk-3-dev libatlas-base-dev gfortran\n",
        "pip install opencv-python\n"
      ],
      "metadata": {
        "id": "fUZAbWknrH-O"
      },
      "execution_count": null,
      "outputs": []
    },
    {
      "cell_type": "code",
      "source": [
        "import cv2\n",
        "import time\n",
        "import os\n",
        "import requests\n",
        "\n",
        "# Function to send an image to LINE Notify\n",
        "def send_to_line(image_path, message, token):\n",
        "    url = \"https://notify-api.line.me/api/notify\"\n",
        "    headers = {\n",
        "        \"Authorization\": f\"Bearer {token}\"\n",
        "    }\n",
        "    payload = {\"message\": message}\n",
        "    files = {\"imageFile\": open(image_path, \"rb\")}\n",
        "    response = requests.post(url, headers=headers, data=payload, files=files)\n",
        "    return response.status_code\n",
        "\n",
        "# Initialize the video capture\n",
        "video = cv2.VideoCapture(0)  # 0 for the default webcam\n",
        "\n",
        "# Check if the video feed is available\n",
        "if not video.isOpened():\n",
        "    print(\"Error: Could not open video.\")\n",
        "    exit()\n",
        "\n",
        "# Intruder detection settings\n",
        "min_contour_area = 500  # Minimum size of motion to detect\n",
        "\n",
        "# Initialize BackgroundSubtractorMOG2 for dynamic background\n",
        "backSub = cv2.createBackgroundSubtractorMOG2()\n",
        "intruder_detected = False\n",
        "capture_delay = 2  # Delay in seconds to capture after motion detected\n",
        "last_notification_time = 0  # Time of the last notification\n",
        "notification_interval = 60  # Minimum interval in seconds between notifications\n",
        "\n",
        "# Create a folder to save intruder images\n",
        "output_dir = \"intruder_images\"\n",
        "os.makedirs(output_dir, exist_ok=True)\n",
        "\n",
        "# Warm-up period to stabilize the background model\n",
        "warmup_frames = 30  # Number of frames to skip\n",
        "for _ in range(warmup_frames):\n",
        "    ret, frame = video.read()\n",
        "    if not ret:\n",
        "        print(\"Error during warm-up period.\")\n",
        "        exit()\n",
        "    backSub.apply(frame)\n",
        "\n",
        "# Line Notify Token (replace with your LINE Notify token)\n",
        "line_token = \"YOUR_LINE_NOTIFY_ACCESS_TOKEN\"\n",
        "\n",
        "print(\"Background model initialized. Starting intruder detection...\")\n",
        "\n",
        "while True:\n",
        "    ret, frame = video.read()\n",
        "    if not ret:\n",
        "        break\n",
        "\n",
        "    # Apply background subtraction\n",
        "    foreground_mask = backSub.apply(frame)\n",
        "\n",
        "    # Reduce noise in the mask\n",
        "    foreground_mask = cv2.medianBlur(foreground_mask, 5)\n",
        "\n",
        "    # Find contours\n",
        "    contours, _ = cv2.findContours(foreground_mask, cv2.RETR_EXTERNAL, cv2.CHAIN_APPROX_SIMPLE)\n",
        "\n",
        "    for contour in contours:\n",
        "        if cv2.contourArea(contour) < min_contour_area:  # Adjust sensitivity\n",
        "            continue\n",
        "\n",
        "        # Get bounding box coordinates for the contour\n",
        "        (x, y, w, h) = cv2.boundingRect(contour)\n",
        "        cv2.rectangle(frame, (x, y), (x + w, y + h), (0, 255, 0), 2)\n",
        "\n",
        "        # Intruder detected\n",
        "        intruder_detected = True\n",
        "\n",
        "    # If an intruder is detected, wait before capturing\n",
        "    if intruder_detected:\n",
        "        current_time = time.time()\n",
        "        if current_time - last_notification_time >= notification_interval:\n",
        "            time.sleep(capture_delay)  # Wait for the object to be fully in frame\n",
        "\n",
        "            # Re-capture the frame after the delay\n",
        "            ret, frame = video.read()\n",
        "            if ret:\n",
        "                # Save the image of the intruder\n",
        "                timestamp = time.strftime(\"%Y%m%d_%H%M%S\")\n",
        "                image_path = f\"intruder_{timestamp}.jpg\"\n",
        "                cv2.imwrite(image_path, frame)\n",
        "\n",
        "                # Notify\n",
        "                response_code = send_to_line(image_path, \"Intruder detected!\", line_token)\n",
        "                if response_code == 200:\n",
        "                    print(\"Image sent successfully to LINE.\")\n",
        "                else:\n",
        "                    print(f\"Failed to send image to LINE. Response code: {response_code}\")\n",
        "\n",
        "                # Update the last notification time\n",
        "                last_notification_time = current_time\n",
        "\n",
        "        # Reset intruder detection flag\n",
        "        intruder_detected = False\n",
        "\n",
        "    # Display the processed frames\n",
        "    cv2.imshow(\"Security Feed\", frame)\n",
        "    cv2.imshow(\"Foreground Mask\", foreground_mask)\n",
        "\n",
        "    # Break the loop with 'q' key\n",
        "    if cv2.waitKey(1) & 0xFF == ord('q'):\n",
        "        break\n",
        "\n",
        "# Release the video capture and close all OpenCV windows\n",
        "video.release()\n",
        "cv2.destroyAllWindows()\n"
      ],
      "metadata": {
        "id": "adPhfoVlSP2a"
      },
      "execution_count": null,
      "outputs": []
    }
  ],
  "metadata": {
    "colab": {
      "provenance": [],
      "collapsed_sections": [
        "NpO8-H-Do6Fs",
        "st2NYjIQn8m_",
        "KWM-_q9joGs5",
        "u6Jo_Y4cjVzx",
        "LhcFCqZbciSj",
        "mnjLaakJ6Hmd",
        "qKT-fcUrhnz7",
        "xlLuyXqKNrs0",
        "ItuKJMxtXAN1",
        "D5jtf3M0OJ78",
        "RCpC_OQVrJI5"
      ],
      "include_colab_link": true
    },
    "kernelspec": {
      "display_name": "Python 3",
      "name": "python3"
    },
    "language_info": {
      "codemirror_mode": {
        "name": "ipython",
        "version": 3
      },
      "file_extension": ".py",
      "mimetype": "text/x-python",
      "name": "python",
      "nbconvert_exporter": "python",
      "pygments_lexer": "ipython3",
      "version": "3.12.5"
    }
  },
  "nbformat": 4,
  "nbformat_minor": 0
}