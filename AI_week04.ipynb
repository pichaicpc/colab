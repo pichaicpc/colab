{
  "cells": [
    {
      "cell_type": "markdown",
      "metadata": {
        "id": "view-in-github",
        "colab_type": "text"
      },
      "source": [
        "<a href=\"https://colab.research.google.com/github/pichaicpc/colab/blob/main/AI_week04.ipynb\" target=\"_parent\"><img src=\"https://colab.research.google.com/assets/colab-badge.svg\" alt=\"Open In Colab\"/></a>"
      ]
    },
    {
      "cell_type": "markdown",
      "metadata": {
        "id": "-so7CFmjn0zn"
      },
      "source": [
        "## **1. Chatbot with Gemini**"
      ]
    },
    {
      "cell_type": "markdown",
      "metadata": {
        "id": "NpO8-H-Do6Fs"
      },
      "source": [
        "### **1.1 เตรียมความพร้อมก่อนสร้าง Chatbot with Gemini**"
      ]
    },
    {
      "cell_type": "code",
      "execution_count": null,
      "metadata": {
        "id": "ubpQK0vZ7Ux-"
      },
      "outputs": [],
      "source": [
        "#------------------------------------------------------------------------------\n",
        "#Step 1. ติดตั้ง Python\n",
        "#------------------------------------------------------------------------------\n",
        "#ดาวน์โหลดไฟล์ได้จาก https://www.python.org/\n",
        "#ตรวจสอบเวอร์ชันใน command prompt : python --version"
      ]
    },
    {
      "cell_type": "code",
      "execution_count": null,
      "metadata": {
        "id": "GtnwOtPMpC26"
      },
      "outputs": [],
      "source": [
        "#------------------------------------------------------------------------------\n",
        "#Step 2. ติดตั้ง python library ดังนี้\n",
        "#------------------------------------------------------------------------------\n",
        "# pip install SpeechRecognition   #Speech to Text\n",
        "# pip install google-generativeai #Text to Text\n",
        "# pip install gTTS                #Text to Speech\n",
        "# pip install pyaudio             #ใช้สำหรับการบันทึกเสียง\n",
        "# pip install playsound==1.2.2    #ใช้สำหรับให้เสียง\n",
        "# pip install setuptools     #แก้ปัญหา No module 'distutils' ใน SpeechRecognition"
      ]
    },
    {
      "cell_type": "code",
      "execution_count": null,
      "metadata": {
        "id": "YWsJ_BV4xAw1"
      },
      "outputs": [],
      "source": [
        "#------------------------------------------------------------------------------\n",
        "#Step 3. ขอ Gemini API key\n",
        "#------------------------------------------------------------------------------\n",
        "#โดยเข้าไปขอได้จาก https://ai.google.dev/gemini-api/docs/api-key"
      ]
    },
    {
      "cell_type": "code",
      "execution_count": null,
      "metadata": {
        "id": "pam_LNQY8sXq"
      },
      "outputs": [],
      "source": [
        "#------------------------------------------------------------------------------\n",
        "#Step 4. ทดสอบการใช้งาน Speech to Text (English version)\n",
        "#------------------------------------------------------------------------------\n",
        "import speech_recognition as sr\n",
        "\n",
        "# Main loop for interactive voice input\n",
        "while True:\n",
        "    r = sr.Recognizer()\n",
        "\n",
        "    # Listen speech from microphone\n",
        "    with sr.Microphone() as source:\n",
        "        print(\"Speak now to Gemini...\")\n",
        "        audio = r.listen(source)\n",
        "\n",
        "    # Change speech to text\n",
        "    try:\n",
        "        text = r.recognize_google(audio)\n",
        "        print(\"You said:\", text)\n",
        "\n",
        "       # Exit loop if the user says \"stop\"\n",
        "        if \"stop\" in text.lower():\n",
        "            print(\"Stopping the loop...\")\n",
        "            break\n",
        "\n",
        "    except sr.UnknownValueError:\n",
        "        print(\"Could not understand audio\")\n",
        "    except sr.RequestError as e:\n",
        "        print(f\"Could not request results from speech recognition service; {e}\")\n"
      ]
    },
    {
      "cell_type": "code",
      "execution_count": null,
      "metadata": {
        "id": "UOJ37tO-9WCM"
      },
      "outputs": [],
      "source": [
        "#------------------------------------------------------------------------------\n",
        "#Step 5. ทดสอบการใช้งาน Speech to Text (Thai version)\n",
        "#------------------------------------------------------------------------------\n",
        "import speech_recognition as sr\n",
        "\n",
        "# Main loop for interactive voice input\n",
        "while True:\n",
        "    r = sr.Recognizer()\n",
        "\n",
        "    # Listen speech from microphone\n",
        "    with sr.Microphone() as source:\n",
        "        print(\"Speak now to Gemini...\")\n",
        "        audio = r.listen(source)\n",
        "\n",
        "    # Change speech to text\n",
        "    try:\n",
        "        text = r.recognize_google(audio, language='th')\n",
        "        print(\"You said:\", text)\n",
        "\n",
        "       # Exit loop if the user says \"stop\"\n",
        "        if \"หยุด\" in text.lower():\n",
        "            print(\"Stopping the loop...\")\n",
        "            break\n",
        "\n",
        "    except sr.UnknownValueError:\n",
        "        print(\"Could not understand audio\")\n",
        "    except sr.RequestError as e:\n",
        "        print(f\"Could not request results from speech recognition service; {e}\")\n"
      ]
    },
    {
      "cell_type": "code",
      "execution_count": null,
      "metadata": {
        "id": "oNspFEpFwRxr"
      },
      "outputs": [],
      "source": [
        "#------------------------------------------------------------------------------\n",
        "#Step 6. ทดสอบการใช้งาน Text to Text (Gemini)\n",
        "#------------------------------------------------------------------------------\n",
        "import google.generativeai as genai\n",
        "\n",
        "# Retrieve API key from environment variable\n",
        "GOOGLE_GEMINI_API_KEY = ''\n",
        "\n",
        "# Configure the Generative AI library\n",
        "genai.configure(api_key=GOOGLE_GEMINI_API_KEY)\n",
        "\n",
        "# Load the Gemini model\n",
        "model = genai.GenerativeModel('gemini-1.5-flash')\n",
        "\n",
        "# Prompt\n",
        "text = 'ปัญญาประดิษฐ์คืออะไร'\n",
        "\n",
        "# Response\n",
        "response = model.generate_content(text)\n",
        "print(\"Gemini:\", response.text)"
      ]
    },
    {
      "cell_type": "code",
      "execution_count": null,
      "metadata": {
        "id": "DWtM7L4i-tNs"
      },
      "outputs": [],
      "source": [
        "#------------------------------------------------------------------------------\n",
        "#Step 7. ทดสอบการใช้งาน Text to Speech (English version)\n",
        "#------------------------------------------------------------------------------\n",
        "from gtts import gTTS\n",
        "from playsound import playsound\n",
        "import os\n",
        "\n",
        "# Define a function for text-to-speech using gTTS\n",
        "def speak_text(text):\n",
        "    filename = 'output.mp3'\n",
        "    tts = gTTS(text=text, lang='en')\n",
        "    tts.save(filename)\n",
        "    playsound(filename)\n",
        "    os.remove(filename)\n",
        "\n",
        "text = 'Hello, how are you?'\n",
        "speak_text(text)"
      ]
    },
    {
      "cell_type": "code",
      "execution_count": null,
      "metadata": {
        "id": "IPzUM6EkCNbL"
      },
      "outputs": [],
      "source": [
        "#------------------------------------------------------------------------------\n",
        "#Step 8. ทดสอบการใช้งาน Text to Speech (Thai version)\n",
        "#------------------------------------------------------------------------------\n",
        "from gtts import gTTS\n",
        "from playsound import playsound\n",
        "import os\n",
        "\n",
        "# Define a function for text-to-speech using gTTS\n",
        "def speak_text(text):\n",
        "    filename = 'output.mp3'\n",
        "    tts = gTTS(text=text, lang='th')\n",
        "    tts.save(filename)\n",
        "    playsound(filename)\n",
        "    os.remove(filename)\n",
        "\n",
        "text = 'สวัสดี, คุณเป็นไงบ้าง?'\n",
        "speak_text(text)"
      ]
    },
    {
      "cell_type": "markdown",
      "metadata": {
        "id": "st2NYjIQn8m_"
      },
      "source": [
        "### **1.2 Chatbot (English version)**"
      ]
    },
    {
      "cell_type": "code",
      "execution_count": null,
      "metadata": {
        "id": "LJ3cD7nooMpo"
      },
      "outputs": [],
      "source": [
        "import speech_recognition as sr\n",
        "import google.generativeai as genai\n",
        "from gtts import gTTS\n",
        "from playsound import playsound\n",
        "import os\n",
        "\n",
        "# API key\n",
        "GOOGLE_GEMINI_API_KEY = ''\n",
        "\n",
        "# Configure the API key\n",
        "genai.configure(api_key=GOOGLE_GEMINI_API_KEY)\n",
        "\n",
        "# Load the Gemini model\n",
        "model = genai.GenerativeModel('gemini-1.5-flash')\n",
        "\n",
        "# define Text-to-speech function\n",
        "def speak_text(text):\n",
        "    filename = 'output.mp3'\n",
        "    tts = gTTS(text=text, lang='en')\n",
        "    tts.save(filename)\n",
        "    playsound(filename)\n",
        "    os.remove(filename)\n",
        "\n",
        "# Main loop for interactive voice input and response\n",
        "while True:\n",
        "    r = sr.Recognizer()\n",
        "    with sr.Microphone() as source:\n",
        "        print(\"Speak now to Gemini...\")\n",
        "        audio = r.listen(source)\n",
        "\n",
        "    try:\n",
        "        #Speech to text\n",
        "        text = r.recognize_google(audio)\n",
        "        print(\"You said:\", text)\n",
        "\n",
        "       # Exit loop if the user says \"stop\"\n",
        "        if \"stop\" in text.lower():\n",
        "            print(\"Stopping the loop...\")\n",
        "            break\n",
        "\n",
        "        #Text to text\n",
        "        response = model.generate_content(text)\n",
        "        print(\"Gemini:\", response.text)\n",
        "\n",
        "        # Text to speech\n",
        "        speak_text(response.text)\n",
        "\n",
        "    except sr.UnknownValueError:\n",
        "        print(\"Could not understand audio\")\n",
        "    except sr.RequestError as e:\n",
        "        print(f\"Could not request results from speech recognition service; {e}\")"
      ]
    },
    {
      "cell_type": "markdown",
      "metadata": {
        "id": "KWM-_q9joGs5"
      },
      "source": [
        "### **1.3 Chatbot (เวอร์ชันภาษาไทย)**"
      ]
    },
    {
      "cell_type": "code",
      "execution_count": null,
      "metadata": {
        "id": "6YCEO9--n0Dv"
      },
      "outputs": [],
      "source": [
        "import speech_recognition as sr\n",
        "import google.generativeai as genai\n",
        "from gtts import gTTS\n",
        "from playsound import playsound\n",
        "import os\n",
        "\n",
        "# API key\n",
        "GOOGLE_GEMINI_API_KEY = ''\n",
        "\n",
        "# Configure the API key\n",
        "genai.configure(api_key=GOOGLE_GEMINI_API_KEY)\n",
        "\n",
        "# Load the Gemini model\n",
        "model = genai.GenerativeModel('gemini-1.5-flash')\n",
        "\n",
        "# define Text-to-speech function\n",
        "def speak_text(text):\n",
        "    filename = 'output.mp3'\n",
        "    tts = gTTS(text=text, lang='th')\n",
        "    tts.save(filename)\n",
        "    playsound(filename)\n",
        "    os.remove(filename)\n",
        "\n",
        "# Main loop for interactive voice input and response\n",
        "while True:\n",
        "    r = sr.Recognizer()\n",
        "    with sr.Microphone() as source:\n",
        "        print(\"Speak now to Gemini...\")\n",
        "        audio = r.listen(source)\n",
        "\n",
        "    try:\n",
        "        #Speech to text\n",
        "        text = r.recognize_google(audio, language='th')\n",
        "        print(\"You said:\", text)\n",
        "\n",
        "       # Exit loop if the user says \"stop\"\n",
        "        if \"หยุด\" in text.lower():\n",
        "            print(\"Stopping the loop...\")\n",
        "            break\n",
        "\n",
        "        #Text to text\n",
        "        response = model.generate_content(text)\n",
        "        print(\"Gemini:\", response.text)\n",
        "\n",
        "        # Text to speech\n",
        "        speak_text(response.text)\n",
        "\n",
        "    except sr.UnknownValueError:\n",
        "        print(\"Could not understand audio\")\n",
        "    except sr.RequestError as e:\n",
        "        print(f\"Could not request results from speech recognition service; {e}\")"
      ]
    }
  ],
  "metadata": {
    "colab": {
      "provenance": [],
      "include_colab_link": true
    },
    "kernelspec": {
      "display_name": "Python 3",
      "name": "python3"
    },
    "language_info": {
      "codemirror_mode": {
        "name": "ipython",
        "version": 3
      },
      "file_extension": ".py",
      "mimetype": "text/x-python",
      "name": "python",
      "nbconvert_exporter": "python",
      "pygments_lexer": "ipython3",
      "version": "3.12.5"
    }
  },
  "nbformat": 4,
  "nbformat_minor": 0
}