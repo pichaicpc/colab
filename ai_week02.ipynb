{
  "cells": [
    {
      "cell_type": "markdown",
      "metadata": {
        "id": "view-in-github",
        "colab_type": "text"
      },
      "source": [
        "<a href=\"https://colab.research.google.com/github/pichaicpc/colab/blob/main/ai_week02.ipynb\" target=\"_parent\"><img src=\"https://colab.research.google.com/assets/colab-badge.svg\" alt=\"Open In Colab\"/></a>"
      ]
    },
    {
      "cell_type": "markdown",
      "metadata": {
        "id": "9BJ67ik-Kib_"
      },
      "source": [
        "# **บทที่ 2 ภาษาโปรแกรมไพทอน**\n",
        "\n",
        "*  2.1 แนะนำไพทอน (Introduction to Python)\n",
        "*  2.2 คอมเมนต์ (Coment)\n",
        "*  2.3 ตัวแปร (Variable)\n",
        "*  2.4 ชนิดข้อมูล (Data Type)\n",
        "*  2.5 ตัวดำเนินการ (Operator)\n",
        "*  2.6 คำสั่งควบคุม (Control Flow Statement)\n",
        "*  2.7 โครงสร้างข้อมูล (Data Structure)\n",
        "*  2.8 ฟังก์ชัน (Function)\n",
        "*  2.9 ข้อความ (String)\n",
        "*  2.10 วันและเวลา (Date and Time)\n",
        "*  2.11 คณิตศาสตร์ (Math)\n",
        "*  2.12 คลาส (Class)\n",
        "*  แบบฝึกหัดท้ายบท\n",
        "\n"
      ]
    },
    {
      "cell_type": "markdown",
      "metadata": {
        "id": "T82SdgNBLUEv"
      },
      "source": [
        "# **2.1 แนะนำไพทอน (Introduction to Python)**"
      ]
    },
    {
      "cell_type": "markdown",
      "metadata": {
        "id": "6fy48dG-LmfW"
      },
      "source": [
        "*  ไพทอน (Python) เป็นภาษาโปรแกรมสูงระดับ (High-level Programming Language)\n",
        "*  เป็นภาษาเชิงวัตถุ (Object-Oriented Programming: OOP)  \n",
        "*  ถูกพัฒนาขึ้นโดย กุยโด ฟาน รอสซัม (Guido van Rossum) ในปี พ.ศ. 2534\n",
        "*  ต่อมาได้มีการก่อตั้ง Python Software Foundation เพื่อทำหน้าที่ดูแลไพทอนมาจนถึงปัจจุบัน\n",
        "*  เป็นภาษาที่สามารถเรียนรู้และนำไปใช้ในการพัฒนาซอฟต์แวร์ได้ง่าย\n",
        "*  รองรับการพัฒนาได้หลากหลายรูปแบบทั้งเว็บ โมบาย เดสก์ท็อป ซอฟต์แวร์แบบผังตัว โดยเฉพาะ AI/ML"
      ]
    },
    {
      "cell_type": "markdown",
      "metadata": {
        "id": "PdCO10_YCNwd"
      },
      "source": [
        "# **2.2 คอมเมนต์ (Comment)**\n",
        "\n",
        "*  คอมเมนต์แบบบรรทัดเดียว\n",
        "*  คอมเมนต์แบบหลายบรรทัด"
      ]
    },
    {
      "cell_type": "markdown",
      "metadata": {
        "id": "mqidBpa-CdG0"
      },
      "source": [
        "## **2.2.1 การคอมเมนต์บรรทัดเดียว**\n",
        "ใช้เครื่องหมาย # เพื่อคอมเมนต์บรรทัดเดียว"
      ]
    },
    {
      "cell_type": "code",
      "execution_count": null,
      "metadata": {
        "id": "NBk7O-oWD9Lo"
      },
      "outputs": [],
      "source": [
        "#แสดงข้อความ Hello World\n",
        "print('Hello World!!')"
      ]
    },
    {
      "cell_type": "code",
      "execution_count": null,
      "metadata": {
        "id": "nendGecTGGCU"
      },
      "outputs": [],
      "source": [
        "print('Hello World!!') #แสดงข้อความ Hello World"
      ]
    },
    {
      "cell_type": "markdown",
      "metadata": {
        "id": "NZy71eZ4GRrS"
      },
      "source": [
        "## **2.2.2 การคอมเมนต์หลายบรรทัด**\n",
        "ใช้เครื่องหมาย ''' หรือ \"\"\" เพื่อคอมเมนต์หลายบรรทัด"
      ]
    },
    {
      "cell_type": "code",
      "execution_count": null,
      "metadata": {
        "id": "UaYgBhtrFhq4"
      },
      "outputs": [],
      "source": [
        "'''\n",
        "ชื่อโปรแกรม : สวัสดีชาวโลก\n",
        "ชื่อโปรแกรมเมอร์ : สมชาย ใจดี\n",
        "เวอร์ชัน : 1.0\n",
        "'''\n",
        "print('สวัสดีชาวโลก')"
      ]
    },
    {
      "cell_type": "code",
      "execution_count": null,
      "metadata": {
        "id": "0nNp4v5OI4uM"
      },
      "outputs": [],
      "source": [
        "\"\"\"\n",
        "ชื่อโปรแกรม : สวัสดีชาวโลก\n",
        "ชื่อโปรแกรมเมอร์ : สมชาย ใจดี\n",
        "เวอร์ชัน : 1.0\n",
        "\"\"\"\n",
        "print('สวัสดีชาวโลก')"
      ]
    },
    {
      "cell_type": "markdown",
      "metadata": {
        "id": "nMfciMvIMKiY"
      },
      "source": [
        "# **2.3 ตัวแปร (Variable)**"
      ]
    },
    {
      "cell_type": "markdown",
      "metadata": {
        "id": "V6m5o0jG4DgH"
      },
      "source": [
        "## **2.3.1 การตั้งชื่อตัวแปร (Variable Naming)**\n",
        "\n",
        "*\tชื่อตัวแปรต้องประกอบไปด้วย ตัวอักษร ตัวเลข หรือเครื่องหมายขีดเส้นใต้ _\n",
        "*\tห้ามขึ้นต้นชื่อด้วยตัวเลข\n",
        "*\tตัวหนังสือภาษาอังกฤษตัวใหญ่ต่างจากตัวเล็ก (Case Sensitive)\n",
        "*\tตัวอย่างชื่อตัวแปร a, b, _a, _1\n"
      ]
    },
    {
      "cell_type": "markdown",
      "metadata": {
        "id": "5-vVrV-jAqst"
      },
      "source": [
        "## **2.3.2 การกำหนดค่าให้กับตัวแปร (Defining value)**\n",
        "\n",
        "*\tเขียนตัวแปรไว้ด้านซ้ายเครื่องหมาย =\n",
        "*\tเขียนค่าของตัวแปรไว้ด้านขวาเครื่องหมาย =\n",
        "*\tไม่จำเป็นต้องระบุเครื่องหมาย ; หลังการกำหนดค่า ยกเว้นต้องการกำหนดค่าชุดใหม่"
      ]
    },
    {
      "cell_type": "code",
      "execution_count": null,
      "metadata": {
        "id": "zbu08I1hA83z"
      },
      "outputs": [],
      "source": [
        "#กำหนดให้ตัวแปร a มีค่าเท่ากับ 5\n",
        "a = 5\n",
        "a"
      ]
    },
    {
      "cell_type": "code",
      "execution_count": null,
      "metadata": {
        "id": "XVJRGzD-BA8M"
      },
      "outputs": [],
      "source": [
        "#กำหนดให้ตัวแปร a, b, และ c มีค่าเท่ากับ 5\n",
        "a = b = c = 5\n",
        "\n",
        "print(a)\n",
        "print(b)\n",
        "print(c)"
      ]
    },
    {
      "cell_type": "code",
      "execution_count": null,
      "metadata": {
        "id": "yktRWqC7BMw8"
      },
      "outputs": [],
      "source": [
        "#กำหนดให้ตัวแปร a มีค่าเท่ากับ 5\n",
        "#กำหนดให้ตัวแปร b มีค่าเท่ากับ 6\n",
        "#กำหนดให้ตัวแปร c มีค่าเท่ากับ 7\n",
        "\n",
        "a = 5; b = 6; c = 7\n",
        "\n",
        "print(a)\n",
        "print(b)\n",
        "print(c)"
      ]
    },
    {
      "cell_type": "code",
      "execution_count": null,
      "metadata": {
        "id": "prVHpQtrBWFc"
      },
      "outputs": [],
      "source": [
        "#สลับค่าระหว่างตัวแปร a และ b\n",
        "a,b = b,a\n",
        "\n",
        "print(a)\n",
        "print(b)\n"
      ]
    },
    {
      "cell_type": "markdown",
      "metadata": {
        "id": "suV0xGUHEDr1"
      },
      "source": [
        "# **2.4 ชนิดข้อมูล (Data Type)**\n"
      ]
    },
    {
      "cell_type": "markdown",
      "metadata": {
        "id": "q0tvu5n2EvWL"
      },
      "source": [
        "## **2.4.1 ชนิดของข้อมูล (Data Type)**\n",
        "\n",
        "\n",
        "*   การประกาศตัวแปร ไม่ต้องกำหนดชนิดข้อมูล\n",
        "*   แต่สามารถตรวจสอบชนิดข้อมูลด้วยคำสั่ง type เช่น type(i)"
      ]
    },
    {
      "cell_type": "code",
      "execution_count": null,
      "metadata": {
        "id": "nECTWELnFTmb"
      },
      "outputs": [],
      "source": [
        "#จำนวนเต็ม\n",
        "i = 10\n",
        "type(i)"
      ]
    },
    {
      "cell_type": "code",
      "execution_count": null,
      "metadata": {
        "id": "PixIUWg6FqDE"
      },
      "outputs": [],
      "source": [
        "#จำนวนทศนิยม\n",
        "i = 102.5\n",
        "type(i)"
      ]
    },
    {
      "cell_type": "code",
      "execution_count": null,
      "metadata": {
        "id": "QOYQYoAfFvsm"
      },
      "outputs": [],
      "source": [
        "#ข้อความ\n",
        "x = 'สวัสดี'\n",
        "type(x)"
      ]
    },
    {
      "cell_type": "code",
      "execution_count": null,
      "metadata": {
        "id": "R05Bi22zF21s"
      },
      "outputs": [],
      "source": [
        "#จริง/เท็จ\n",
        "x = True\n",
        "type(x)"
      ]
    },
    {
      "cell_type": "markdown",
      "metadata": {
        "id": "Onqv01ESGGA1"
      },
      "source": [
        "## **2.4.2 การแปลงชนิดข้อมูล (Data Type Conversion)**\n"
      ]
    },
    {
      "cell_type": "code",
      "execution_count": null,
      "metadata": {
        "id": "Jdn-SJ7xGMIT"
      },
      "outputs": [],
      "source": [
        "#แปลงไปเป็นจำนวนเต็ม\n",
        "int(10.25)\n"
      ]
    },
    {
      "cell_type": "code",
      "execution_count": null,
      "metadata": {
        "id": "7LZG5hnkGbAM"
      },
      "outputs": [],
      "source": [
        "#แปลงไปเป็นจำนวนทศนิยม\n",
        "float('0.279')\n"
      ]
    },
    {
      "cell_type": "code",
      "execution_count": null,
      "metadata": {
        "id": "Y5Vrnj2QGjP9"
      },
      "outputs": [],
      "source": [
        "#แปลงไปเป็นข้อความ\n",
        "str(1234)\n"
      ]
    },
    {
      "cell_type": "code",
      "execution_count": null,
      "metadata": {
        "id": "4ndGptEiGrOU"
      },
      "outputs": [],
      "source": [
        "#แปลงไปเป็น boolean\n",
        "bool(1)\n"
      ]
    },
    {
      "cell_type": "markdown",
      "metadata": {
        "id": "naZ_xujSHH0k"
      },
      "source": [
        "# **2.5 ตัวดำเนินการ (Operators)**"
      ]
    },
    {
      "cell_type": "markdown",
      "metadata": {
        "id": "o40m2WiqHV6c"
      },
      "source": [
        "- สำหรับการคำนวณ (Arithmetic)\n",
        "- สำหรับการกำหนดค่าให้กับตัวแปร (Assignment)\n",
        "- สำหรับการดำเนินการกับตัวแปร 1 ตัว (Unary)\n",
        "- สำหรับการเปรียบเทียบ(Comparison)\n",
        "- สำหรับเงื่อนไขเชิงตรรกะ (Logical)\n"
      ]
    },
    {
      "cell_type": "markdown",
      "source": [
        "<img width=\"600px\" src=\"data:image/png;base64,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\"/>"
      ],
      "metadata": {
        "id": "iqAOCreONCUb"
      }
    },
    {
      "cell_type": "markdown",
      "source": [
        "<img width=\"600px\" src=\"data:image/png;base64,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\"/>"
      ],
      "metadata": {
        "id": "mz8WM8A2OjKD"
      }
    },
    {
      "cell_type": "markdown",
      "source": [
        "<img width=\"600px\" src=\"data:image/png;base64,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\"/>"
      ],
      "metadata": {
        "id": "1_MusH_UPgtQ"
      }
    },
    {
      "cell_type": "markdown",
      "source": [
        "<img width=\"600px\" src=\"data:image/png;base64,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\"/>"
      ],
      "metadata": {
        "id": "I6YVa6tgP-a6"
      }
    },
    {
      "cell_type": "markdown",
      "source": [
        "<img width=\"600px\" src=\"data:image/png;base64,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\"/>"
      ],
      "metadata": {
        "id": "9FaUWDDDQT5U"
      }
    },
    {
      "cell_type": "markdown",
      "metadata": {
        "id": "atm084FfJT8l"
      },
      "source": [
        "# **2.6 คำสั่งควบคุม (Control Flow Statement)**\n",
        "\n"
      ]
    },
    {
      "cell_type": "markdown",
      "metadata": {
        "id": "2GzPlc8EJbXs"
      },
      "source": [
        "-  If Statement (ใช้สำหรับตัดสินใจ)\n",
        "-  For Statement (ใช้สำหรับทำซ้ำ)\n",
        "-  While Statement (ใช้สำหรับทำซ้ำ)"
      ]
    },
    {
      "cell_type": "markdown",
      "metadata": {
        "id": "TbpfC72wJoaS"
      },
      "source": [
        "## **2.6.1 If Statement**\n",
        "\n",
        "ใช้สำหรับตัดสินใจ"
      ]
    },
    {
      "cell_type": "code",
      "execution_count": null,
      "metadata": {
        "id": "P4PkJ-rvJ3fj"
      },
      "outputs": [],
      "source": [
        "# if-else สำหรับตรวจสอบเงื่อนไขเดียว\n",
        "a = 10; b = 20;\n",
        "if(a < b):\n",
        "    print('a < b is true')\n",
        "else:\n",
        "    print('a < b is false')"
      ]
    },
    {
      "cell_type": "code",
      "execution_count": null,
      "metadata": {
        "id": "cFfa1FLiJ9Gr"
      },
      "outputs": [],
      "source": [
        "# if-elif-else สำหรับตรวจสอบหลายเงื่อนไข\n",
        "a = 10\n",
        "b = 20\n",
        "if b < a:\n",
        "    print('b is lower than a')\n",
        "elif a == b:\n",
        "    print('a and b are equal')\n",
        "else:\n",
        "    print('b is greater than a')"
      ]
    },
    {
      "cell_type": "markdown",
      "metadata": {
        "id": "RXV_zEKUJsYz"
      },
      "source": [
        "## **2.6.2 For Statement**\n",
        "\n",
        "ใช้สำหรับทำซ้ำ เมื่อทราบจำนวนรอบที่แน่ชัด\n"
      ]
    },
    {
      "cell_type": "code",
      "execution_count": null,
      "metadata": {
        "id": "n1Vln9pNMoMK"
      },
      "outputs": [],
      "source": [
        "#for สำหรับแสดงแต่ละตัวอักษรที่อยู่ในคำว่า \"coconut\"\n",
        "for x in \"coconut\":\n",
        "  print(x)\n"
      ]
    },
    {
      "cell_type": "code",
      "execution_count": null,
      "metadata": {
        "id": "ZBpxr-R8MsrM"
      },
      "outputs": [],
      "source": [
        "#for สำหรับแสดงลำดับของแต่ละ row จากน้อยไปหามาก\n",
        "#โดยใช้คำสั่ง range(จำนวนแถว)\n",
        "for i in range(5):\n",
        "    print('Row ' + str(i))\n"
      ]
    },
    {
      "cell_type": "code",
      "execution_count": null,
      "metadata": {
        "id": "sRWgomdNMvxD"
      },
      "outputs": [],
      "source": [
        "#for สำหรับแสดงลำดับของแต่ละ row จากมากไปหาน้อย\n",
        "#โดยใช้คำสั่ง range(ค่าเริ่มต้น, ค่าก่อนสุดท้าย, step ของการเพิ่ม/ลด)\n",
        "for i in range(5, 0, -1):\n",
        "  print('Row ' + str(i))\n"
      ]
    },
    {
      "cell_type": "code",
      "execution_count": null,
      "metadata": {
        "id": "ZP5toJKWM5YD"
      },
      "outputs": [],
      "source": [
        "#nested for สำหรับแสดง row และ column\n",
        "for row in range(3):\n",
        "    for col in range(5):\n",
        "        print( str(row) + str(col), '\\t', end='')\n",
        "    print('')\n"
      ]
    },
    {
      "cell_type": "markdown",
      "metadata": {
        "id": "1K8fKtgxJvhs"
      },
      "source": [
        "## **2.6.3 While Statement**\n",
        "\n",
        "ใช้สำหรับทำซ้ำ เมื่อทราบจำนวนรอบที่แน่ชัด/ไม่ชัด"
      ]
    },
    {
      "cell_type": "code",
      "execution_count": null,
      "metadata": {
        "id": "uFIrfSDdND1F"
      },
      "outputs": [],
      "source": [
        "#while สำหรับแสดงลำดับของแต่ละ row จากน้อยไปหามาก\n",
        "i = 0\n",
        "while i < 5:\n",
        "  print('Row ' + str(i))\n",
        "  i += 1\n"
      ]
    },
    {
      "cell_type": "code",
      "execution_count": null,
      "metadata": {
        "id": "_tmPWP2qGbVg"
      },
      "outputs": [],
      "source": [
        "#while สำหรับแสดงลำดับของแต่ละ row จากมากไปหาน้อย\n",
        "i = 5\n",
        "while(i > 0):\n",
        "  print('Row ' + str(i))\n",
        "  i -= 1\n"
      ]
    },
    {
      "cell_type": "code",
      "execution_count": null,
      "metadata": {
        "id": "5FQhy4f_NGNk"
      },
      "outputs": [],
      "source": [
        "#Break เพื่อหยุดการทำงานเมื่่อ i มีค่าเท่ากับ 3\n",
        "i = 0\n",
        "while i < 5:\n",
        "  print('Row ' + str(i))\n",
        "  if i == 3:\n",
        "    break\n",
        "  i += 1\n"
      ]
    },
    {
      "cell_type": "code",
      "execution_count": null,
      "metadata": {
        "id": "YK97ZvIYNJOn"
      },
      "outputs": [],
      "source": [
        "#Continue เพื่อข้ามการทำงานเมื่่อ i มีค่าเท่ากับ 3\n",
        "i = 0\n",
        "while i < 5:\n",
        "  i += 1\n",
        "  if i == 3:\n",
        "    continue\n",
        "  print('Row ' + str(i))\n"
      ]
    },
    {
      "cell_type": "code",
      "execution_count": null,
      "metadata": {
        "id": "U3opReAKMfYG"
      },
      "outputs": [],
      "source": [
        "'''\n",
        "การใช้ while เมื่อไม่ทราบจำนวนรอบที่แน่ชัด\n",
        "โดยโปรแกรมทำการสุ่มตัวเลข 0-100 ไปเรื่อย ๆ\n",
        "จนกว่าจะสุ่มเจอเลข 7 แล้วจะหยุด\n",
        "'''\n",
        "import random\n",
        "\n",
        "i = 0\n",
        "goal = False\n",
        "while(goal == False):\n",
        "  n = random.randint(0, 100) #สุ่มตัวเลขระหว่าง 0-100\n",
        "\n",
        "  if n == 7:\n",
        "    goal = True\n",
        "  else:\n",
        "    i += 1\n",
        "    print('Round ' + str(i))"
      ]
    },
    {
      "cell_type": "markdown",
      "metadata": {
        "id": "DPGoFy5ZWVLv"
      },
      "source": [
        "# **2.7 โครงสร้างข้อมูล (Python Data Structure)**"
      ]
    },
    {
      "cell_type": "markdown",
      "metadata": {
        "id": "YhUPhu0BFJXm"
      },
      "source": [
        "   โครงสร้างข้อมูลในไพทอนแบ่งออกเป็น 4 ประเภท หลัก ๆ ดังนี้\n",
        "\n",
        "*\tลิส (List) : เข้าถึงอิลิเมนต์ (Element) ผ่านอินเด็กซ์ (Index) ได้, เปลี่ยนแปลงได้ (เพิ่ม ลบ และแก้ไข), ซ้ำได้, เรียงลำดับได้\n",
        "*\tทูเพิล (Tuple) : เข้าถึงอิลิเมนต์ผ่านอินเด็กซ์ได้, ซ้ำได้, เรียงลำดับได้\n",
        "*\tดิกชันนารี (Dictionary) : เข้าถึงอิลิเมนต์ผ่านอินเด็กซ์ได้, เปลี่ยนแปลงได้ (เพิ่ม ลบ และแก้ไข)\n",
        "*\tเซต (Set) : เปลี่ยนแปลงได้ (เพิ่มและลบ)\n"
      ]
    },
    {
      "cell_type": "markdown",
      "metadata": {
        "id": "xHzmkOP1Yrue"
      },
      "source": [
        "<img width=\"600px\" src=\"data:image/png;base64,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\"/>"
      ]
    },
    {
      "cell_type": "markdown",
      "metadata": {
        "id": "ILP5LGyoYDgC"
      },
      "source": [
        "## **2.7.1 ลิส (List)**"
      ]
    },
    {
      "cell_type": "code",
      "execution_count": null,
      "metadata": {
        "id": "CJX2aX4lZru2",
        "collapsed": true
      },
      "outputs": [],
      "source": [
        "#ตรวจสอบความมีอยู่ของ Element ในตัวแปร car\n",
        "cars = [\"Toyota\", \"Yamaha\", \"Tesla\"]\n",
        "\n",
        "car = \"Tesla\"\n",
        "\n",
        "if car in cars:\n",
        "    print(\"Yes, \" + car + \" is in the cars\")\n",
        "else:\n",
        "    print(\"No, \" + car + \" is not in the cars\")\n"
      ]
    },
    {
      "cell_type": "code",
      "execution_count": null,
      "metadata": {
        "id": "IuTD6JplaFKn"
      },
      "outputs": [],
      "source": [
        "#แสดงค่าของแต่ละ Element ในตัวแปร cars\n",
        "cars = [\"Toyota\", \"Yamaha\", \"Tesla\"]\n",
        "for x in cars:\n",
        "    print(x)"
      ]
    },
    {
      "cell_type": "code",
      "execution_count": null,
      "metadata": {
        "id": "srywd496aTC_"
      },
      "outputs": [],
      "source": [
        "#แสดงแต่ละ Element ในตัวแปร cars ด้วยการระบุ Index\n",
        "for i in range(len(cars)):\n",
        "  print(str(i), cars[i])\n"
      ]
    },
    {
      "cell_type": "code",
      "execution_count": null,
      "metadata": {
        "id": "0QD5JdxuFJXo"
      },
      "outputs": [],
      "source": [
        "#แสดง Index และค่าของแต่ละ Element ในตัวแปร cars\n",
        "cars = [\"Toyota\", \"Yamaha\", \"Tesla\"]\n",
        "for i,x in enumerate(cars):\n",
        "    print(i, x)"
      ]
    },
    {
      "cell_type": "code",
      "execution_count": null,
      "metadata": {
        "id": "yaDqXkVks3Kq"
      },
      "outputs": [],
      "source": [
        "#การแสดงค่าที่อยู่ใน List 2 มิติ ด้วย Nested for\n",
        "x=[[8,3,7],\n",
        "   [6,5,9]]\n",
        "num_row = len(2)\n",
        "num_col = len(3)\n",
        "\n",
        "for row in range(num_row):\n",
        "    for col in range(num_col):\n",
        "        print( x[row][col], '\\t', end='')\n",
        "    print('')"
      ]
    },
    {
      "cell_type": "code",
      "source": [
        "len(x[1])"
      ],
      "metadata": {
        "id": "t9-Xg4spxTEq"
      },
      "execution_count": null,
      "outputs": []
    },
    {
      "cell_type": "code",
      "execution_count": null,
      "metadata": {
        "id": "koZJ3agM_Iuy"
      },
      "outputs": [],
      "source": [
        "#การเพิ่ม Element ในตัวแปร cars\n",
        "cars = [\"Toyota\", \"Yamaha\", \"Tesla\"]\n",
        "cars.append(\"Benz\")\n",
        "cars.append(\"Toyota\")\n",
        "\n",
        "cars"
      ]
    },
    {
      "cell_type": "code",
      "execution_count": null,
      "metadata": {
        "id": "NAFmItyn_zwS"
      },
      "outputs": [],
      "source": [
        "#การลบ Element ในตัวแปร cars\n",
        "cars.remove(\"Toyota\")\n",
        "\n",
        "cars"
      ]
    },
    {
      "cell_type": "code",
      "execution_count": null,
      "metadata": {
        "id": "SKFgHl2FiFbl"
      },
      "outputs": [],
      "source": [
        "#การลบ Element ในตัวแปร cars [ลบทุก element ที่ซ้ำกันด้วย]\n",
        "cars = ['Toyota', 'Yamaha', 'Tesla', 'Benz', 'Toyota']\n",
        "cars = [x for x in cars if x != 'Toyota']\n",
        "cars"
      ]
    },
    {
      "cell_type": "code",
      "execution_count": null,
      "metadata": {
        "id": "_8JnWQ30dcHT"
      },
      "outputs": [],
      "source": [
        "#การแก้ไข Element ในตัวแปร cars\n",
        "cars[0] = \"Toyota\"\n",
        "\n",
        "cars"
      ]
    },
    {
      "cell_type": "code",
      "execution_count": null,
      "metadata": {
        "id": "mAVw86-veBkQ"
      },
      "outputs": [],
      "source": [
        "#การเรียงลำดับ Element จากน้อยไปหามาก ในตัวแปร cars\n",
        "cars.sort()\n",
        "cars"
      ]
    },
    {
      "cell_type": "code",
      "execution_count": null,
      "metadata": {
        "id": "AF5kRp5te607"
      },
      "outputs": [],
      "source": [
        "#การเรียงลำดับ Element จากมากไปหาน้อย ในตัวแปร cars\n",
        "cars.sort(reverse=True)\n",
        "\n",
        "cars"
      ]
    },
    {
      "cell_type": "code",
      "execution_count": null,
      "metadata": {
        "id": "piD7iPKbhiSl"
      },
      "outputs": [],
      "source": [
        "#การคัดลอก List\n",
        "cars2=cars.copy()"
      ]
    },
    {
      "cell_type": "markdown",
      "metadata": {
        "id": "1q1Wuhhrtaqs"
      },
      "source": [
        "## **2.7.2 ทูเพล (Tuple)**"
      ]
    },
    {
      "cell_type": "code",
      "execution_count": null,
      "metadata": {
        "id": "LJ1opaAKtnwE"
      },
      "outputs": [],
      "source": [
        "#แสดงแต่ละ Element ในตัวแปร fruits\n",
        "fruits = (\"orange\", \"mango\", \"coconut\")\n",
        "for x in fruits:\n",
        "  print(x)\n"
      ]
    },
    {
      "cell_type": "code",
      "execution_count": null,
      "metadata": {
        "id": "F0YrczbogZ8W"
      },
      "outputs": [],
      "source": [
        "#แสดงแต่ละ Element ในตัวแปร fruits ด้วยการระบุ Index\n",
        "for i in range(len(fruits)):\n",
        "  print(fruits[i])\n"
      ]
    },
    {
      "cell_type": "code",
      "execution_count": null,
      "metadata": {
        "id": "taDxYwAtgCHZ"
      },
      "outputs": [],
      "source": [
        "#การเรียงลำดับ Element จากน้อยไปหามาก ในตัวแปร cars\n",
        "fruits = (\"orange\", \"mango\", \"coconut\")\n",
        "sorted(fruits)\n"
      ]
    },
    {
      "cell_type": "code",
      "execution_count": null,
      "metadata": {
        "id": "hiYAuXihkExt"
      },
      "outputs": [],
      "source": [
        "#การเรียงลำดับ Element จากมากไปหาน้อย ในตัวแปร cars\n",
        "fruits = (\"orange\", \"mango\", \"coconut\")\n",
        "sorted(fruits, reverse = True)\n"
      ]
    },
    {
      "cell_type": "markdown",
      "metadata": {
        "id": "5b5ZWhDktv7j"
      },
      "source": [
        "## **2.7.3 ดิกชันนารี (Dictionary)**"
      ]
    },
    {
      "cell_type": "code",
      "execution_count": null,
      "metadata": {
        "id": "k8yi5FSAuCFT"
      },
      "outputs": [],
      "source": [
        "student = {\n",
        "  \"name\": \"John\",\n",
        "  \"sex\": \"Male\",\n",
        "  \"age\": 25,\n",
        "}\n",
        "\n",
        "#การแสดง key names ใน dictionary\n",
        "for x in student:\n",
        "  print(x)\n"
      ]
    },
    {
      "cell_type": "code",
      "execution_count": null,
      "metadata": {
        "id": "kxLM_s9GuMR7"
      },
      "outputs": [],
      "source": [
        "#การแสดง values ใน dictionary\n",
        "for x in student:\n",
        "  print(student[x])\n"
      ]
    },
    {
      "cell_type": "code",
      "execution_count": null,
      "metadata": {
        "id": "50PApHILuPML"
      },
      "outputs": [],
      "source": [
        "#การแสดง key names และ values ใน dictionary\n",
        "for x, y in student.items():\n",
        "  print(x, y)\n"
      ]
    },
    {
      "cell_type": "code",
      "execution_count": null,
      "metadata": {
        "id": "-SASfxLBnhRl"
      },
      "outputs": [],
      "source": [
        "#การเพิ่ม Element ในตัวแปร student\n",
        "student = {\n",
        "  \"name\": \"John\",\n",
        "  \"sex\": \"Male\",\n",
        "  \"age\": 25,\n",
        "}\n",
        "\n",
        "\n",
        "student[\"weight\"] = \"65\"\n",
        "student"
      ]
    },
    {
      "cell_type": "code",
      "execution_count": null,
      "metadata": {
        "id": "PvkSIIEKoL92"
      },
      "outputs": [],
      "source": [
        "#การแก้ไข Element ในตัวแปร student\n",
        "student[\"age\"] = 30\n",
        "student"
      ]
    },
    {
      "cell_type": "code",
      "execution_count": null,
      "metadata": {
        "id": "q4PaznX3pn6P"
      },
      "outputs": [],
      "source": [
        "#การลบ Element ในตัวแปร student\n",
        "del(student[\"sex\"])\n",
        "student"
      ]
    },
    {
      "cell_type": "markdown",
      "metadata": {
        "id": "zoc_CGafuV_t"
      },
      "source": [
        "## **2.7.4 เซต (Set)**"
      ]
    },
    {
      "cell_type": "code",
      "execution_count": null,
      "metadata": {
        "id": "2ZNct5FPuYsN"
      },
      "outputs": [],
      "source": [
        "#Iterate through the items and print the values\n",
        "fruits = {\"orange\", \"mango\", \"coconut\"}\n",
        "\n",
        "for x in fruits:\n",
        "  print(x)\n"
      ]
    },
    {
      "cell_type": "code",
      "execution_count": null,
      "metadata": {
        "id": "45_kxMwP2NCO"
      },
      "outputs": [],
      "source": [
        "#add element\n",
        "fruits.add('banana')\n",
        "for x in fruits:\n",
        "  print(x)"
      ]
    },
    {
      "cell_type": "code",
      "execution_count": null,
      "metadata": {
        "id": "jUG3Hn9Pxrde"
      },
      "outputs": [],
      "source": [
        "#union\n",
        "fruits = {\"orange\", \"mango\", \"coconut\", \"banana\"}\n",
        "secondfruits = {'mango','banana','melon','apple'}\n",
        "\n",
        "fruits.union(secondfruits)"
      ]
    },
    {
      "cell_type": "code",
      "execution_count": null,
      "metadata": {
        "id": "xyKnj5oi0hJ4"
      },
      "outputs": [],
      "source": [
        "#intersection\n",
        "fruits.intersection(secondfruits)"
      ]
    },
    {
      "cell_type": "code",
      "execution_count": null,
      "metadata": {
        "id": "-RZJBERD0qsE"
      },
      "outputs": [],
      "source": [
        "#difference\n",
        "fruits.difference(secondfruits)"
      ]
    },
    {
      "cell_type": "code",
      "execution_count": null,
      "metadata": {
        "id": "VhK3zi3Y1H1m"
      },
      "outputs": [],
      "source": [
        "#Is it subset?\n",
        "fruits.issubset(secondfruits)"
      ]
    },
    {
      "cell_type": "markdown",
      "source": [
        "## **2.7.5 คิว (Queue)**"
      ],
      "metadata": {
        "id": "oqEAaS6Q2TLl"
      }
    },
    {
      "cell_type": "code",
      "source": [
        "#การใช้งาน List ในรูปแบบของ Queue\n",
        "customers = [] #เริ่มต้นไม่มีลูกค้ามารอคิวซื้อของ\n",
        "print('รายชื่อลูกค้าที่รอคิวเริ่มต้น คือ', customers)\n",
        "\n",
        "customers.append('nadech') #เพิ่ม nadech เข้าไปในคิว\n",
        "customers.append('yaya') #เพิ่ม mark เข้าไปในคิว\n",
        "customers.append('mark') #เพิ่ม mark เข้าไปในคิว\n",
        "print('รายชื่อลูกค้าที่รอคิวหลังเพิ่มมา 3 คน คือ', customers)\n",
        "\n",
        "customers.pop(0) #คนข้างหน้าสุดซื้อของและออกจากคิว\n",
        "customers.pop(0) #คนข้างหน้าสุดซื้อของและออกจากคิว\n",
        "print('รายชื่อลูกค้าที่รอคิวหลัง 2 คนซื้อของเสร็จ คือ', customers)"
      ],
      "metadata": {
        "id": "jBonH64xlbl3"
      },
      "execution_count": null,
      "outputs": []
    },
    {
      "cell_type": "markdown",
      "source": [
        "## **2.7.6 สแตก (Stack)**"
      ],
      "metadata": {
        "id": "GQZ0n1_72rWB"
      }
    },
    {
      "cell_type": "code",
      "source": [
        "#โครงสร้างข้อมูลแบบ Stack โดยการประยุกต์ใช้ List\n",
        "\n",
        "books = ['PHP','Pyhon'] #เริ่มต้นให้มีหนังสืออยู่ 2 เล่มวางซ้อนกันบนโต๊ะ\n",
        "print('หนังสือที่ยู่บนโต๊ะเริ่มต้น คือ', books)#แสดงรายชื่อหนังสือเริ่มต้น\n",
        "\n",
        "books.append('Java') #วางหนังสือ Java เพิ่มเข้าไป\n",
        "print('หนังสือที่ยู่บนโต๊ะหลังเพิ่ม Java คือ', books)\n",
        "\n",
        "books.pop()#หยิบหนังสือ Java ออกมา\n",
        "books.pop()#หยิบหนังสือ Python ออกมา\n",
        "print('หนังสือที่ยู่บนโต๊ะหลังหยิบออก 2 เล่ม คือ', books)"
      ],
      "metadata": {
        "id": "8z2KdwVZ2yyJ"
      },
      "execution_count": null,
      "outputs": []
    },
    {
      "cell_type": "markdown",
      "metadata": {
        "id": "tSIJJ8FfqUcs"
      },
      "source": [
        "# **2.8 ฟังก์ชัน (Function)**"
      ]
    },
    {
      "cell_type": "markdown",
      "metadata": {
        "id": "ZLyxNX20qwgk"
      },
      "source": [
        "- ฟังก์ชันสำเร็จรูปของ Python (Built-in Functions)\n",
        "- การสร้างฟังก์ชันขึ้นใช้เอง (User-defined Functions)"
      ]
    },
    {
      "cell_type": "markdown",
      "metadata": {
        "id": "glP-nwMUrNFk"
      },
      "source": [
        "## **2.8.1 ฟังก์ชันสำเร็จรูปของ Python (Built-in Functions)**\n",
        "\n",
        "https://docs.python.org/3.11/library/functions.html"
      ]
    },
    {
      "cell_type": "code",
      "execution_count": null,
      "metadata": {
        "id": "_0t7jBa2uoBU"
      },
      "outputs": [],
      "source": [
        "#ฟังก์ชัน print ใช้เพื่อแสดงข้อความ\n",
        "print(\"Hello world!!\")\n",
        "print(\"สวัสดี ชาวโลก!!\")"
      ]
    },
    {
      "cell_type": "code",
      "execution_count": null,
      "metadata": {
        "id": "Zb9jxWrDuW38"
      },
      "outputs": [],
      "source": [
        "#ฟังก์ชัน len ใช้เพื่อนับจำนวน elements\n",
        "x = [5,9,4,7]\n",
        "len(x)"
      ]
    },
    {
      "cell_type": "code",
      "execution_count": null,
      "metadata": {
        "id": "52HkSM51s0Xt"
      },
      "outputs": [],
      "source": [
        "#ฟังก์ชัน min ใช้เพื่อแสดงค่าต่ำสุด\n",
        "x = [5,9,4,7]\n",
        "min(x)"
      ]
    },
    {
      "cell_type": "code",
      "execution_count": null,
      "metadata": {
        "id": "EAfUQBrotEaF"
      },
      "outputs": [],
      "source": [
        "#ฟังก์ชัน max ใช้เพื่อแสดงค่าสูงสุด\n",
        "x = [5,9,4,7]\n",
        "max(x)"
      ]
    },
    {
      "cell_type": "code",
      "execution_count": null,
      "metadata": {
        "id": "9cmCQCJztI9T"
      },
      "outputs": [],
      "source": [
        "#ฟังก์ชัน sum ใช้เพื่อคำนวณผลรวม\n",
        "x = [5,9,4,7]\n",
        "sum(x)"
      ]
    },
    {
      "cell_type": "code",
      "execution_count": null,
      "metadata": {
        "id": "QYcENpk0tYu7"
      },
      "outputs": [],
      "source": [
        "#ฟังก์ชัน abs ใช้เพื่อแสดงค่าสัมบูรณ์\n",
        "a = -9\n",
        "abs(a)"
      ]
    },
    {
      "cell_type": "code",
      "execution_count": null,
      "metadata": {
        "id": "LySpuwXkuDKr"
      },
      "outputs": [],
      "source": [
        "#ฟังก์ชัน pow ใช้เพื่อคำนวณเลขยกกำลัง\n",
        "pow(2,3)\n"
      ]
    },
    {
      "cell_type": "code",
      "source": [
        "2**3"
      ],
      "metadata": {
        "id": "KnPDx1Rm7VBv"
      },
      "execution_count": null,
      "outputs": []
    },
    {
      "cell_type": "code",
      "execution_count": null,
      "metadata": {
        "id": "Kb6diuituLIu"
      },
      "outputs": [],
      "source": [
        "#ฟังก์ชัน round ใช้เพื่อปัดเศษ\n",
        "round(2.542, 2)"
      ]
    },
    {
      "cell_type": "markdown",
      "metadata": {
        "id": "PxQAtUBGwh5s"
      },
      "source": [
        " ## **2.8.2 การสร้างฟังก์ชันขึ้นใช้เอง (User-defined Functions)**"
      ]
    },
    {
      "cell_type": "code",
      "execution_count": null,
      "metadata": {
        "id": "DLM0HpYhxgBy"
      },
      "outputs": [],
      "source": [
        "#ฟังก์ชัน plus\n",
        "def plus(a, b):\n",
        "    return a + b\n",
        "\n",
        "print(plus(5, 10))"
      ]
    },
    {
      "cell_type": "code",
      "source": [],
      "metadata": {
        "id": "uWl-TzZREZCM"
      },
      "execution_count": null,
      "outputs": []
    },
    {
      "cell_type": "code",
      "execution_count": null,
      "metadata": {
        "id": "Ov9XxLjQgLIZ"
      },
      "outputs": [],
      "source": [
        "#ฟังก์ชัน plus\n",
        "def add(a, b):\n",
        "    c = a + b\n",
        "    return c\n",
        "\n",
        "x = float(input('กรุณาระบุค่าที่ 1: '))\n",
        "y = float(input('กรุณาระบุค่าที่ 2: '))\n",
        "print('ผลรวมคือ ', add(x, y))"
      ]
    },
    {
      "cell_type": "code",
      "source": [
        "def multiply(a, b):\n",
        "    c = a * b\n",
        "    return c\n",
        "\n",
        "multiply(7,9)"
      ],
      "metadata": {
        "id": "jQgEhCSNF5pU"
      },
      "execution_count": null,
      "outputs": []
    },
    {
      "cell_type": "code",
      "source": [],
      "metadata": {
        "id": "XZWaritNGfKO"
      },
      "execution_count": null,
      "outputs": []
    },
    {
      "cell_type": "code",
      "execution_count": null,
      "metadata": {
        "id": "L4Asgl75xo5E"
      },
      "outputs": [],
      "source": [
        "#ฟังก์ชัน recursive_sum\n",
        "def recur_sum(k):\n",
        "  if(k==1):\n",
        "    return 1\n",
        "\n",
        "  return k + recur_sum(k-1)\n",
        "\n",
        "print(recur_sum(5))\n",
        "\n",
        "# 5 + recur_sum(4)\n",
        "# 5 + 4 + recur_sum(3)\n",
        "# 5 + 4 + 3 + recur_sum(2)\n",
        "# 5 + 4 + 3 + 2 + recur_sum(1)\n",
        "# 5 + 4 + 3 + 2 + 1 = 15"
      ]
    },
    {
      "cell_type": "code",
      "execution_count": null,
      "metadata": {
        "id": "v_GMvEZEgcwA"
      },
      "outputs": [],
      "source": [
        "#ฟังก์ชัน factorial\n",
        "def factorial(k):\n",
        "  if(k==0):\n",
        "    return 1\n",
        "\n",
        "  return k * factorial(k-1)\n",
        "\n",
        "print(factorial(5))\n",
        "# 5 * factorial(4)\n",
        "# 5 * 4 * factorial(3)\n",
        "# 5 * 4 * 3 + factorial(2)\n",
        "# 5 * 4 * 3 * 2 * factorial(1)\n",
        "# 5 * 4 * 3 * 2 * 1 * factorial(0)\n",
        "# 5 * 4 * 3 * 2 * 1 * 1 = 120"
      ]
    },
    {
      "cell_type": "markdown",
      "metadata": {
        "id": "ox_2SzvE1IBs"
      },
      "source": [
        "# **2.9 ข้อความ (String)**"
      ]
    },
    {
      "cell_type": "markdown",
      "metadata": {
        "id": "pisiWL6v1WKy"
      },
      "source": [
        "\n",
        "*   เข้าถึงอิลิเมนต์ในข้อความด้วยการระบุอินเด็กซ์\n",
        "*   การเชื่อมข้อความ\n",
        "*   ฟังก์ชันกับที่เกี่ยวกับข้อความ\n",
        "\n"
      ]
    },
    {
      "cell_type": "markdown",
      "metadata": {
        "id": "5mG_c9wa2CdB"
      },
      "source": [
        " ## **2.9.1 เข้าถึงอิลิเมนต์ในข้อความด้วยการระบุอินเด็กซ์**"
      ]
    },
    {
      "cell_type": "code",
      "execution_count": null,
      "metadata": {
        "id": "rpV7onCi3HAr"
      },
      "outputs": [],
      "source": [
        "a = 'Hello World!'\n",
        "\n",
        "print(a[0]) #แสดงตัวอักษรแรก\n",
        "print(a[1]) #แสดงตัวอักษรที่สอง\n"
      ]
    },
    {
      "cell_type": "code",
      "execution_count": null,
      "metadata": {
        "id": "V65j17DO4TZ0"
      },
      "outputs": [],
      "source": [
        "a = 'Hello World!'\n",
        "\n",
        "print(a[2:5]) #แสดงตัวอักษรตั้งแต่ index ที่ 2 ถึง index 4 (ก่อน 5)\n",
        "print(a[2:]) #ตัด 2 ตัวอักษรแรกออก\n",
        "print(a[:2]) #แสดง 2 ตัวอักษรแรก\n"
      ]
    },
    {
      "cell_type": "code",
      "source": [],
      "metadata": {
        "id": "Ulg6-4D8bLgi"
      },
      "execution_count": null,
      "outputs": []
    },
    {
      "cell_type": "markdown",
      "metadata": {
        "id": "C0habqQ-6dcB"
      },
      "source": [
        " ## **2.9.2 การเชื่อมข้อความ**"
      ]
    },
    {
      "cell_type": "markdown",
      "metadata": {
        "id": "NqB6Ehe0H0ER"
      },
      "source": [
        "\n",
        "### เชื่อมข้อความด้วยเครื่องหมายบวก\n"
      ]
    },
    {
      "cell_type": "code",
      "execution_count": null,
      "metadata": {
        "id": "1dSGbSLS6j8z"
      },
      "outputs": [],
      "source": [
        "#เชื่อมข้อความ กับ ข้อความ\n",
        "a='Hello'\n",
        "b=' World!'\n",
        "\n",
        "c = a + b\n",
        "print(c)"
      ]
    },
    {
      "cell_type": "code",
      "execution_count": null,
      "metadata": {
        "id": "U7UeCW-b6yXC"
      },
      "outputs": [],
      "source": [
        "a='Hello'\n",
        "b='World!'\n",
        "\n",
        "c = a + ' ' + b\n",
        "print(c)"
      ]
    },
    {
      "cell_type": "code",
      "execution_count": null,
      "metadata": {
        "id": "DN_FF5YB63Wy"
      },
      "outputs": [],
      "source": [
        "#เชื่อมข้อความ กับ ตัวเลข\n",
        "name = 'วิชัย มีโชค'\n",
        "age = 20\n",
        "\n",
        "c = name + ' มีอายุ ' + str(age) + ' ปี'\n",
        "print(c)"
      ]
    },
    {
      "cell_type": "markdown",
      "metadata": {
        "id": "1QZmS9MtIXp6"
      },
      "source": [
        "### เชื่อมข้อความด้วยเครื่องหมายคอมม่า\n",
        "\n",
        "\n"
      ]
    },
    {
      "cell_type": "code",
      "execution_count": null,
      "metadata": {
        "id": "roVWwXlE7lV7"
      },
      "outputs": [],
      "source": [
        "name = 'วิชัย มีโชค'\n",
        "age = 20\n",
        "\n",
        "print(name, 'มีอายุ', age, 'ปี')"
      ]
    },
    {
      "cell_type": "markdown",
      "metadata": {
        "id": "e15lk7V_TYS_"
      },
      "source": [
        "### เชื่อมข้อความด้วยเครื่องหมายเปอร์เซ็นต์"
      ]
    },
    {
      "cell_type": "code",
      "execution_count": null,
      "metadata": {
        "id": "h0DRznJzTb-d"
      },
      "outputs": [],
      "source": [
        "name = 'วิชัย มีโชค'\n",
        "age = 20\n",
        "\n",
        "print('%s มีอายุ %d ปี' %(name, age))"
      ]
    },
    {
      "cell_type": "markdown",
      "metadata": {
        "id": "swAiCGcvUa7E"
      },
      "source": [
        "### เชื่อมข้อความด้วยฟังก์ชันฟอร์แมต\n",
        "\n",
        "\n",
        "\n"
      ]
    },
    {
      "cell_type": "code",
      "execution_count": null,
      "metadata": {
        "id": "sdytqdZAUn90"
      },
      "outputs": [],
      "source": [
        "name = 'วิชัย มีโชค'\n",
        "age = 20\n",
        "salary = 25000.75987\n",
        "print('{} มีอายุ {} ปี ซึ่งมีรายได้ {:,.2f} ต่อเดือน '.format(name, age , salary))\n"
      ]
    },
    {
      "cell_type": "markdown",
      "metadata": {
        "id": "eSqbJF9SJGRa"
      },
      "source": [
        "### เชื่อมข้อความด้วยเอฟ-สตริง (f-string)"
      ]
    },
    {
      "cell_type": "code",
      "execution_count": null,
      "metadata": {
        "id": "7xZxkruXJR1q"
      },
      "outputs": [],
      "source": [
        "name = 'วิชัย มีโชค'\n",
        "age = 20\n",
        "salary = 25000.75987\n",
        "\n",
        "print(f'{name} มีอายุ {age} ปี ซึ่งมีรายได้ {salary:,.2f} ต่อเดือน ')"
      ]
    },
    {
      "cell_type": "markdown",
      "metadata": {
        "id": "AsogjiGY8Srp"
      },
      "source": [
        " ## **2.9.3 ฟังก์ชันกับที่เกี่ยวกับข้อความ**\n"
      ]
    },
    {
      "cell_type": "markdown",
      "metadata": {
        "id": "zm3Mq4aitfZd"
      },
      "source": [
        "https://www.w3schools.com/python/python_strings.asp\n",
        "\n",
        "https://docs.python.org/3/library/stdtypes.html#string-methods"
      ]
    },
    {
      "cell_type": "code",
      "execution_count": null,
      "metadata": {
        "id": "AyuYsrWS8qFN"
      },
      "outputs": [],
      "source": [
        "#นับจำนวน ตัวอักษร\n",
        "a = 'Hello World!'\n",
        "len(a)"
      ]
    },
    {
      "cell_type": "code",
      "execution_count": null,
      "metadata": {
        "id": "fq5UnrKg9Lez"
      },
      "outputs": [],
      "source": [
        "#การแปลงตัวอักษรเป็นตัวเล็ก\n",
        "a = 'Hello World!'\n",
        "a.lower()"
      ]
    },
    {
      "cell_type": "code",
      "execution_count": null,
      "metadata": {
        "id": "ZvEAKJoj9ltx"
      },
      "outputs": [],
      "source": [
        "#การแปลงตัวอักษรเป็นตัวใหญ่\n",
        "a = 'Hello World!'\n",
        "a.upper()"
      ]
    },
    {
      "cell_type": "code",
      "execution_count": null,
      "metadata": {
        "id": "82iQ-_MN9wz6"
      },
      "outputs": [],
      "source": [
        "#การแปลงตัวอักษรตัวแรกเป็นตัวใหญ่\n",
        "a = 'hello world!'\n",
        "a.capitalize()"
      ]
    },
    {
      "cell_type": "code",
      "execution_count": null,
      "metadata": {
        "id": "oNYBVDoDQNaY"
      },
      "outputs": [],
      "source": [
        "#การตัด Whitespace ด้านซ้ายและขวาของข้อความ\n",
        "a = ' hello world! '\n",
        "a.strip()"
      ]
    },
    {
      "cell_type": "code",
      "execution_count": null,
      "metadata": {
        "id": "l_aOzXkQOK3Q"
      },
      "outputs": [],
      "source": [
        "#การนับจำนวนครั้งที่ซ้ำกันของค่า\n",
        "a = 'hello world!'\n",
        "a.count('o')"
      ]
    },
    {
      "cell_type": "code",
      "execution_count": null,
      "metadata": {
        "id": "zd_J4A7tOqTI"
      },
      "outputs": [],
      "source": [
        "#การหาตำแหน่งแรกของคำที่ระบุ\n",
        "a = \"what time is it? it's 7 o'clock\"\n",
        "a.index('it') #same as a.index()"
      ]
    },
    {
      "cell_type": "code",
      "execution_count": null,
      "metadata": {
        "id": "x-wKtPCrR8Hf"
      },
      "outputs": [],
      "source": [
        "#การหาตำแหน่งสุดท้ายของค่าที่ระบุ\n",
        "a = \"what time is it? it's 7 o'clock\"\n",
        "a.rfind('it') #same as a.rindex()"
      ]
    },
    {
      "cell_type": "code",
      "execution_count": null,
      "metadata": {
        "id": "3PiT9p8ZPQSq"
      },
      "outputs": [],
      "source": [
        "#การแทนที่ด้วยค่าที่ระบุ\n",
        "a = 'Hello world!'\n",
        "a.replace('world','friends')"
      ]
    },
    {
      "cell_type": "code",
      "execution_count": null,
      "metadata": {
        "id": "QVvrmHkRWbma"
      },
      "outputs": [],
      "source": [
        "#ระบบกรองคำหยาบและตัดคำ\n",
        "x = input('คุณคิดอะไรอยู่ : ')\n",
        "print('')\n",
        "\n",
        "#กรองคำหยาบ\n",
        "x = x.replace('เฮีย','***')\n",
        "x = x.replace('สาดด','***')\n",
        "x = x.replace('เลว','***')\n",
        "\n",
        "#ตัดข้อความกรณีข้อความยาวเกิน 20 ตัวอักษร\n",
        "if len(x)> 20:\n",
        "  x = x[:20] + '...'\n",
        "\n",
        "print('คุณคิดอะไรอยู่ :',x)\n"
      ]
    },
    {
      "cell_type": "markdown",
      "metadata": {
        "id": "ZInd6z50k_dW"
      },
      "source": [
        "# **2.10 วันและเวลา (Date and Time)**"
      ]
    },
    {
      "cell_type": "markdown",
      "metadata": {
        "id": "kjFRV-sBtW27"
      },
      "source": [
        "https://www.w3schools.com/python/python_datetime.asp\n",
        "\n",
        "https://docs.python.org/3/library/datetime.html"
      ]
    },
    {
      "cell_type": "code",
      "execution_count": null,
      "metadata": {
        "id": "_Z5hSAO5lRsM"
      },
      "outputs": [],
      "source": [
        "import datetime as dt\n",
        "\n",
        "d = dt.datetime.now() #วันเวลาปัจจุบัน\n",
        "\n",
        "print(d) #2022-08-08 17:56:33.463385\n",
        "print(d.strftime('%Y-%m-%d %H:%M:%S')) #2022-08-08 17:56:33\n",
        "print(d.strftime('%d/%m/%Y %H:%M:%S')) #08/08/2022 17:56:33\n",
        "print(d.strftime('%d/%m/%y')) #08/08/2022\n",
        "print(d.strftime('%H:%M:%S')) #17:56:3"
      ]
    },
    {
      "cell_type": "code",
      "execution_count": null,
      "metadata": {
        "id": "njVEnpgdl0-k"
      },
      "outputs": [],
      "source": [
        "import datetime as dt\n",
        "\n",
        "d = dt.datetime.now() #วันเวลาปัจจุบัน\n",
        "year = d.year #ปี\n",
        "month = d.month #เดือน\n",
        "day = d.day #วัน\n",
        "hour = d.hour #ชั่วโมง\n",
        "minute = d.minute #นาที\n",
        "second = d.second #วินาที\n",
        "\n",
        "months = ['ม.ค.','ก.พ.','มี.ค.','เม.ย.','พ.ค.','มิ.ย.',\n",
        "          'ก.ค.','ส.ค.','ก.ย.','ต.ค.','พ.ย.','ธ.ค.']\n",
        "\n",
        "print('วันที่', day, months[month-1], year+543, '', end='')\n",
        "print('เวลา ' + str(hour) + ':' + str(minute) + ':' + str(second))"
      ]
    },
    {
      "cell_type": "markdown",
      "metadata": {
        "id": "IVfeXgEjx6Ts"
      },
      "source": [
        "# **2.11 คณิตศาสตร์ (Math)**"
      ]
    },
    {
      "cell_type": "markdown",
      "metadata": {
        "id": "HPqU-n9C16Gq"
      },
      "source": [
        "https://www.w3schools.com/python/module_math.asp\n",
        "\n",
        "https://docs.python.org/3/library/math.html"
      ]
    },
    {
      "cell_type": "code",
      "execution_count": null,
      "metadata": {
        "id": "uvG96Y37x_zj"
      },
      "outputs": [],
      "source": [
        "import math\n",
        "\n",
        "print(math.sin(math.radians(30))) #คำนวณค่า sin 30\n",
        "print(math.cos(math.radians(45))) #คำนวณค่า cos 45\n",
        "print(math.tan(math.radians(60))) #คำนวณค่า tan 60\n"
      ]
    },
    {
      "cell_type": "code",
      "execution_count": null,
      "metadata": {
        "id": "6JOp_MzUz58M"
      },
      "outputs": [],
      "source": [
        "print(math.e) #แสดงค่า e (2.718….)\n",
        "print(math.pi) #แสดงค่า pi (3.14….)"
      ]
    },
    {
      "cell_type": "code",
      "execution_count": null,
      "metadata": {
        "id": "_jgCu1Acy1wa"
      },
      "outputs": [],
      "source": [
        "print(math.ceil(27.35)) #ปัดเศษขึ้น\n",
        "print(math.floor(27.75)) #ปัดเศษลง\n",
        "print(math.log2(8)) #Log ฐาน 2\n",
        "print(math.log(math.e)) #Log ฐาน e (Log ธรรมชาติ)\n",
        "print(math.log10(100)) #Log ฐาน 10 (Log ทั่วไป)\n",
        "print(math.pow(2,5)) #คำนวณเลขยกกำลัง\n",
        "print(math.sqrt(25)) #คำนวณการถอดรากที่สอง"
      ]
    },
    {
      "cell_type": "code",
      "execution_count": null,
      "metadata": {
        "id": "vOdSS2-x5A1D"
      },
      "outputs": [],
      "source": [
        "#การคำนวณหาระยะทางระหว่างจุด\n",
        "point = [ [0, 0],\n",
        "          [4, 3]]\n",
        "\n",
        "distance = math.sqrt(pow(point[0][0] - point[1][0], 2) +\n",
        "                     pow(point[0][1] - point[1][1], 2))\n",
        "distance"
      ]
    },
    {
      "cell_type": "markdown",
      "source": [
        "# **2.12 คลาส (Class)**"
      ],
      "metadata": {
        "id": "O40WcupVWf-5"
      }
    },
    {
      "cell_type": "code",
      "source": [
        "class Dog:\n",
        "  \"\"\"Represents a dog with a name, breed, and age.\"\"\"\n",
        "\n",
        "  def __init__(self, name, breed, age):\n",
        "    \"\"\"Initializes a new Dog object.\"\"\"\n",
        "    self.name = name\n",
        "    self.breed = breed\n",
        "    self.age = age\n",
        "    self.bark_sound = \"Hong hong!\"\n",
        "\n",
        "  def bark(self):\n",
        "    \"\"\"Simulates a dog barking.\"\"\"\n",
        "    print(self.bark_sound)\n",
        "\n",
        "  def change_bark(self, new_bark):\n",
        "    \"\"\"Changes the dog's bark sound.\"\"\"\n",
        "    self.bark_sound = new_bark\n",
        "\n",
        "  def eat(self):\n",
        "    \"\"\"Simulates a dog eating.\"\"\"\n",
        "    print(f\"{self.name} happily munches on their food.\")\n",
        "\n",
        "  def sleep(self):\n",
        "    \"\"\"Simulates a dog sleeping.\"\"\"\n",
        "    print(f\"{self.name} curls up and takes a nap.\")\n",
        "\n",
        "  def describe(self):\n",
        "    \"\"\"Prints a description of the dog.\"\"\"\n",
        "    print(f\"My name is {self.name}, I'm a {self.breed}, and I'm {self.age}, \\\n",
        "    years old.\")\n",
        "\n",
        "# Create a Dog object\n",
        "my_dog = Dog(\"Buddy\", \"Golden Retriever\", 3)\n",
        "my_dog2 = Dog(\"Max\", \"Labrador\", 5)\n",
        "\n",
        "my_dog3 = Dog(\"Lucy\", \"Poodle\", 2)\n",
        "my_dog4 = Dog(\"Charlie\", \"German Shepherd\", 7)\n",
        "my_dog5 = Dog(\"Daisy\", \"Beagle\", 1)\n",
        "\n",
        "# Call methods on the Dog object\n",
        "my_dog.bark()\n",
        "my_dog.change_bark(\"Horng horng!\")\n",
        "my_dog.bark()\n",
        "my_dog.describe()"
      ],
      "metadata": {
        "id": "YcWjbQeLWlhh"
      },
      "execution_count": null,
      "outputs": []
    },
    {
      "cell_type": "markdown",
      "metadata": {
        "id": "zeZ4Kj2GiJX1"
      },
      "source": [
        "# **แบบฝึกหัด**"
      ]
    },
    {
      "cell_type": "markdown",
      "metadata": {
        "id": "fP9kgcn8iOeJ"
      },
      "source": [
        "1. จงเขียนโปรแกรมเพื่อสร้างฟังก์ชัน (Function) ต่อไปนี้\n",
        "* 1.1 ฟังก์ชันเพื่อคำนวณเส้นรอบวง\n",
        "* 1.2 ฟังก์ชันเพื่อคำนวณพื้นที่วงกลม\n",
        "* 1.3 ฟังก์ชันเพื่อคำนวณพื้นที่ทรงกลม"
      ]
    },
    {
      "cell_type": "markdown",
      "metadata": {
        "id": "POlcDc-1ioNf"
      },
      "source": [
        "2. จากค่าของตัวแปร month และ income\n",
        "\n",
        "\n",
        "* month = ['ม.ค.','ก.พ.','มี.ค.','เม.ย.','พ.ค.','มิ.ย.','ก.ค.','ส.ค.','ก.ย.','ต.ค.','พ.ย.','ธ.ค.']\n",
        "* income = [7200,40000,7000,50000,9000,85000,5900,25000,60000,87200,94000,40000]\n",
        "\n",
        "   จงเขียนโปรแกรมเพื่อแสดงผลดังต่อไปนี้\n",
        "\n",
        "* รายได้ในเดือน ม.ค. เท่ากับ 7200 บาท\n",
        "* รายได้ในเดือน ก.พ. เท่ากับ 40000 บาท\n",
        "* รายได้ในเดือน มี.ค. เท่ากับ 7000 บาท\n",
        "* รายได้ในเดือน เม.ย. เท่ากับ 50000 บาท\n",
        "* รายได้ในเดือน พ.ค. เท่ากับ 9000 บาท\n",
        "* รายได้ในเดือน มิ.ย. เท่ากับ 85000 บาท\n",
        "* รายได้ในเดือน ก.ค. เท่ากับ 5900 บาท\n",
        "* รายได้ในเดือน ส.ค. เท่ากับ 25000 บาท\n",
        "* รายได้ในเดือน ก.ย. เท่ากับ 60000 บาท\n",
        "* รายได้ในเดือน ต.ค. เท่ากับ 87200 บาท\n",
        "* รายได้ในเดือน พ.ย. เท่ากับ 94000 บาท\n",
        "* รายได้ในเดือน ธ.ค. เท่ากับ 40000 บาท"
      ]
    },
    {
      "cell_type": "markdown",
      "metadata": {
        "id": "4Ih1T5v3jsPv"
      },
      "source": [
        "3. จากรายชื่อหนังสือที่อยู่ในตัวแปร book_list\n",
        "\n",
        "  book_list = [\"Elements of Reusable Software\", \"Enterprise Integration Patterns\",\"A Practical Handbook of Software Construction\",\"Improving the Design of Existing Code\",\"Productive Projects and Teams\"]\n",
        "\n",
        "   จงเขียนโค้ดด้วยภาษา Python เพื่อแสดงรายชื่อหนังสือ หากชื่อหนังสือใดมีความยาวเกิน 30 ตัวอักษร ให้ทำการตัดส่วนที่เกินออกไปแล้วเพิ่ม \"...\" หลังชื่อหนังสือ\n"
      ]
    },
    {
      "cell_type": "markdown",
      "metadata": {
        "id": "e3NvKkkjkT93"
      },
      "source": [
        "4. กำหนดให้พิกัด A, B, และ C มีค่าดังรูป\n",
        "\n",
        "<img width=\"350px\" src=\"data:image/png;base64,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\"/>\n",
        "\n",
        "    โดยให้พิกัดเก็บไว้ในตัวแปร p = [‘A’, ‘B’, ‘C’] และค่าเก็บไว้ในตัวแปร x = [[2,0], [2,5], [7,5]]\n",
        "    จงเขียนโปรแกรมด้วยคำสั่ง For หรือ While เพื่อแก้ไขปัญหาดังต่อไปนี้\n",
        "\n",
        "* 4.1 หาระยะทางระหว่างจุด A กับจุด B\n",
        "* 4.2 หาระยะทางระหว่างจุด B กับจุด C\n",
        "* 4.3 หาระยะทางระหว่างจุด C กับจุด A\n",
        "* 4.4 หาระยะทางรวมจากจุด A ไป B และไป C\n",
        "\n"
      ]
    },
    {
      "cell_type": "markdown",
      "metadata": {
        "id": "YGDanFY2kw1m"
      },
      "source": [
        "5. กำหนดให้ จุดสีแดงเป็นจุดศูนย์กลางอยู่ที่จุด (4,3) จุดสีดำเป็นจุดรอบนอบจุดศูนย์กลาง อยู่ที่จุด (4,2), (4,4), (4,5), (4,6), (5,3), (6,3) และ (3,3) จุดศูนย์กลางเก็บไว้ในตัวแปร c และ จุดรอบนอกเก็บไว้ในตัวแปร x ดังนี้ c=[4,3] x = [[4,2], [4,4], [4,5], [4,6], [5,3], [6,3], [3,3]]\n",
        "\n",
        "\n",
        "<img width=\"300px\" src=\"data:image/png;base64,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\"/>\n",
        "\n",
        "\n",
        "    จงเขียนโปรแกรมด้วยคำสั่ง For หรือ While เพื่อแก้ไขปัญหาดังต่อไปนี้\n",
        "* 5.1 หาจุดรอบนอกที่อยู่ใกล้จุดศูนย์กลางที่สุด\n",
        "* 5.2 หาจุดรอบนอกที่อยู่ไกลจากจุดศูนย์กลางที่สุด\n",
        "\n"
      ]
    },
    {
      "cell_type": "markdown",
      "source": [
        "# **เอกสารอ้างอิง**"
      ],
      "metadata": {
        "id": "psfATlN2Hdwx"
      }
    },
    {
      "cell_type": "markdown",
      "source": [
        "[1] W3Schools. (n.d.). Python Tutorial. https://www.w3schools.com/python </br>\n",
        "[2] Python Institute. (n.d.). Python® – the language of today and tomorrow. https://pythoninstitute.org/about-python </br>\n",
        "\n",
        "\n"
      ],
      "metadata": {
        "id": "0Hho2VOPHhsw"
      }
    },
    {
      "cell_type": "markdown",
      "source": [
        "# **เนื้อหาเพิ่มเติม**"
      ],
      "metadata": {
        "id": "zj-bs9uA4xzy"
      }
    },
    {
      "cell_type": "code",
      "source": [
        "#การแยกข้อความออกเป็น List ตามตัวขั้นที่กำหนด [updated]\n",
        "a = 'apple-orange-melon-banana'\n",
        "b = a.split('-')\n",
        "\n",
        "#print(a)\n",
        "print(a[0])\n",
        "# print(a[1])\n",
        "\n",
        "print(b)\n",
        "print(b[3])\n",
        "# print(b[1])"
      ],
      "metadata": {
        "id": "djYGGKC74ymf"
      },
      "execution_count": null,
      "outputs": []
    }
  ],
  "metadata": {
    "colab": {
      "provenance": [],
      "include_colab_link": true
    },
    "kernelspec": {
      "display_name": "Python 3",
      "name": "python3"
    },
    "language_info": {
      "codemirror_mode": {
        "name": "ipython",
        "version": 3
      },
      "file_extension": ".py",
      "mimetype": "text/x-python",
      "name": "python",
      "nbconvert_exporter": "python",
      "pygments_lexer": "ipython3",
      "version": "3.9.13"
    }
  },
  "nbformat": 4,
  "nbformat_minor": 0
}