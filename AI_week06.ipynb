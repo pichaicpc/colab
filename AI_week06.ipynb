{
  "cells": [
    {
      "cell_type": "markdown",
      "metadata": {
        "id": "view-in-github",
        "colab_type": "text"
      },
      "source": [
        "<a href=\"https://colab.research.google.com/github/pichaicpc/colab/blob/main/AI_week06.ipynb\" target=\"_parent\"><img src=\"https://colab.research.google.com/assets/colab-badge.svg\" alt=\"Open In Colab\"/></a>"
      ]
    },
    {
      "cell_type": "markdown",
      "metadata": {
        "id": "dVy2c4CfWUaS"
      },
      "source": [
        "# **บทที่ 6 การประมวลผลภาพ**\n",
        "\n",
        "* 6.1 แนะนำประมวลผลภาพ\n",
        "* 6.2 การอ่านและแสดงภาพ (Image Read and Show)\n",
        "* 6.3 การแปลงค่าสีภาพ (Color Conversion)\n",
        "* 6.4 การปรับขนาดของภาพ (Image Resizing)\n",
        "* 6.5 การตัดส่วนของภาพ (Image Cropping)\n",
        "* 6.6 การหมุนภาพ (Image Rotation)\n",
        "* 6.7 การวาดภาพทรงเลขาคณิต (Geometric Drawing)\n",
        "* 6.8 การเขียนข้อความลงบนภาพ (Adding Text)\n"
      ]
    },
    {
      "cell_type": "markdown",
      "metadata": {
        "id": "nlcc3urvDk9o"
      },
      "source": [
        "## **6.1 แนะนำประมวลผลภาพ**"
      ]
    },
    {
      "cell_type": "markdown",
      "metadata": {
        "id": "c5Qbb_sTQdU5"
      },
      "source": [
        "![image.png](attachment:image.png)"
      ]
    },
    {
      "cell_type": "markdown",
      "metadata": {
        "id": "cPsL_u7KQdU6"
      },
      "source": [
        "![image.png](attachment:image.png)"
      ]
    },
    {
      "cell_type": "code",
      "execution_count": null,
      "metadata": {
        "id": "d7562LCQvlg1"
      },
      "outputs": [],
      "source": [
        "#ติดตั้ง OpenCV\n",
        "!pip install opencv-python"
      ]
    },
    {
      "cell_type": "code",
      "execution_count": null,
      "metadata": {
        "id": "0I8cHDb5QdU-"
      },
      "outputs": [],
      "source": [
        "#ติดตั้ง Matplotlib\n",
        "!pip install matplotlib"
      ]
    },
    {
      "cell_type": "code",
      "execution_count": null,
      "metadata": {
        "id": "8s9Y-2atQdU-"
      },
      "outputs": [],
      "source": [
        "#ดาวโหลดไฟล์จาก\n",
        "#https://drive.google.com/drive/folders/1UXX1WFP1n60X7w1TE9Kn0cc-iHIEJxEz?usp=sharing\n",
        "#ไปไว้ในโฟลเดอร์ image\n",
        "\n",
        "#กรณีใช้งานบน google colab\n",
        "#ให้ดาวน์โหลดไฟล์ไปไว้ใน google drive แล้วทำการ Mount ดังนี้\n",
        "from google.colab import drive\n",
        "drive.mount('/content/drive')\n",
        "path = '/content/drive/MyDrive/image/'"
      ]
    },
    {
      "cell_type": "markdown",
      "metadata": {
        "id": "jUmw1np_uMh-"
      },
      "source": [
        "## **6.2 การอ่านและแสดงภาพ (Image Read and Show)**"
      ]
    },
    {
      "cell_type": "code",
      "execution_count": null,
      "metadata": {
        "id": "OH9UZSHiyJAN"
      },
      "outputs": [],
      "source": [
        "\n",
        "\n",
        "#Load python library\n",
        "import cv2 as cv\n",
        "\n",
        "#Load image\n",
        "image = cv.imread('image/prayut.jpg')\n",
        "\n",
        "#Show image\n",
        "cv.imshow('prayut',image)\n",
        "\n",
        "#Wait pressing any key\n",
        "cv.waitKey(0)\n",
        "\n",
        "#Close all windows\n",
        "cv.destroyAllWindows()"
      ]
    },
    {
      "cell_type": "code",
      "execution_count": null,
      "metadata": {
        "id": "gR-kf8GmyJAO"
      },
      "outputs": [],
      "source": [
        "#Load python library\n",
        "import cv2 as cv\n",
        "import matplotlib.pyplot as plt\n",
        "\n",
        "#Load image\n",
        "image = cv.imread('image/prayut.jpg')\n",
        "\n",
        "#Convert BGR color to RBG color\n",
        "image = cv.cvtColor(image, cv.COLOR_BGR2RGB)\n",
        "\n",
        "#Show image\n",
        "plt.imshow(image)\n"
      ]
    },
    {
      "cell_type": "markdown",
      "metadata": {
        "id": "36cl9y_OyJAO"
      },
      "source": [
        "## **6.3 การแปลงภาพสีเป็นภาพขาวดำ (Color Conversion))**"
      ]
    },
    {
      "cell_type": "code",
      "execution_count": null,
      "metadata": {
        "id": "eLkXgZhWyJAQ"
      },
      "outputs": [],
      "source": [
        "#Load python library\n",
        "import cv2 as cv\n",
        "import matplotlib.pyplot as plt\n",
        "\n",
        "#Load image\n",
        "original = cv.imread('image/prayut.jpg')\n",
        "original = cv.cvtColor(original, cv.COLOR_BGR2RGB)\n",
        "\n",
        "#Convert BGR color to gray color\n",
        "grayscale = cv.cvtColor(original, cv.COLOR_BGR2GRAY)\n",
        "\n",
        "#Create two subplots (1 row with 2 columns)\n",
        "fig, axes = plt.subplots(1, 2)\n",
        "\n",
        "#Show original image (RGB color)\n",
        "axes[0].imshow(original)\n",
        "axes[0].set_title(\"Original\")\n",
        "\n",
        "#Show coverted image (Gray color)\n",
        "axes[1].imshow(grayscale, cmap='gray')\n",
        "axes[1].set_title(\"Grayscale\")"
      ]
    },
    {
      "cell_type": "markdown",
      "metadata": {
        "id": "TvNp7WGyyJAQ"
      },
      "source": [
        "## **6.4 การปรับขนาดของภาพ (Image Resizing)**"
      ]
    },
    {
      "cell_type": "code",
      "execution_count": null,
      "metadata": {
        "id": "mHUkBKkxyJAS"
      },
      "outputs": [],
      "source": [
        "#Load python library\n",
        "import cv2 as cv\n",
        "import matplotlib.pyplot as plt\n",
        "\n",
        "#Load image\n",
        "original = cv.imread('image/prayut.jpg')\n",
        "original = cv.cvtColor(original, cv.COLOR_BGR2RGB)\n",
        "\n",
        "#Resize with descreasing 1/2 times of x-axis and 1/4 times of y-axis\n",
        "resized_image = cv.resize(original, None, fx=1/2, fy=1/4)\n",
        "#resized_image = cv.resize(original,(200, 100))\n",
        "\n",
        "#Create two subplots (1 row with 2 columns)\n",
        "fig, axes = plt.subplots(1, 2)\n",
        "\n",
        "#Show original image\n",
        "axes[0].imshow(original)\n",
        "axes[0].set_title(\"Original\")\n",
        "\n",
        "#Show resized image\n",
        "axes[1].imshow(resized_image)\n",
        "axes[1].set_title(\"Resized Image\")"
      ]
    },
    {
      "cell_type": "markdown",
      "metadata": {
        "id": "r2rU9IncyJAS"
      },
      "source": [
        "## **6.5 การตัดส่วนของภาพ (Image Cropping)**"
      ]
    },
    {
      "cell_type": "code",
      "execution_count": null,
      "metadata": {
        "id": "4QEuZqMJyJAT"
      },
      "outputs": [],
      "source": [
        "#Load python library\n",
        "import cv2 as cv\n",
        "import matplotlib.pyplot as plt\n",
        "\n",
        "#Load image\n",
        "original = cv.imread('image/prayut.jpg')\n",
        "original = cv.cvtColor(original, cv.COLOR_BGR2RGB)\n",
        "\n",
        "#Retreive image size\n",
        "rows, cols, length = original.shape\n",
        "print(\"rows =\", rows, \", columns =\", cols, \" length =\", length)\n",
        "\n",
        "#Crop image\n",
        "cropped_image = original[100:rows-100, 50: cols-50]\n",
        "\n",
        "#Create two subplots (1 row with 2 columns)\n",
        "fig, axes = plt.subplots(1, 2)\n",
        "\n",
        "#Show original image\n",
        "axes[0].imshow(original)\n",
        "axes[0].set_title(\"Original\")\n",
        "\n",
        "#Show resized image\n",
        "axes[1].imshow(cropped_image)\n",
        "axes[1].set_title(\"Cropped Image\")"
      ]
    },
    {
      "cell_type": "markdown",
      "metadata": {
        "id": "ZOZNIFq1yJAU"
      },
      "source": [
        "## **6.6 การหมุนภาพ (Image Rotation)**"
      ]
    },
    {
      "cell_type": "code",
      "execution_count": null,
      "metadata": {
        "id": "QWOtoZfkyJAV"
      },
      "outputs": [],
      "source": [
        "#Load python library\n",
        "import cv2 as cv\n",
        "import matplotlib.pyplot as plt\n",
        "\n",
        "#Load image\n",
        "original = cv.imread('image/prayut.jpg')\n",
        "original = cv.cvtColor(original, cv.COLOR_BGR2RGB)\n",
        "\n",
        "#Retreive image size\n",
        "rows, cols, length = original.shape\n",
        "\n",
        "#Rotate image\n",
        "#getRotationMatrix2D(center of rotaion, angle, zoom scale)\n",
        "\n",
        "M = cv.getRotationMatrix2D( (cols/2, rows/2) , 45 ,1)\n",
        "rotated_image = cv.warpAffine(original, M, (cols,rows))\n",
        "\n",
        "\n",
        "#Create two subplots (1 row with 2 columns)\n",
        "fig, axes = plt.subplots(1, 2)\n",
        "\n",
        "#Show original image\n",
        "axes[0].imshow(original)\n",
        "axes[0].set_title(\"Original\")\n",
        "\n",
        "#Show resized image\n",
        "axes[1].imshow(rotated_image)\n",
        "axes[1].set_title(\"Rotated Image\")"
      ]
    },
    {
      "cell_type": "markdown",
      "metadata": {
        "id": "BrA_I54ByJAW"
      },
      "source": [
        "## **6.7 การวาดภาพทรงเลขาคณิต (Geometric Drawing)**"
      ]
    },
    {
      "cell_type": "markdown",
      "metadata": {
        "id": "nLGMNPrnyJAW"
      },
      "source": [
        "### **6.7.1 การวาดเส้นตรง**"
      ]
    },
    {
      "cell_type": "code",
      "execution_count": null,
      "metadata": {
        "id": "LXKHH09oyJAX"
      },
      "outputs": [],
      "source": [
        "#Load python library\n",
        "import cv2 as cv\n",
        "import matplotlib.pyplot as plt\n",
        "\n",
        "#Load image\n",
        "image = cv.imread('image/male_face.jpg')\n",
        "image = cv.cvtColor(image, cv.COLOR_BGR2RGB)\n",
        "\n",
        "#Draw a blue line with thickness of 1 px\n",
        "#cv.line(image, (col_start, row_start), (col_end, row_end), (R,G,B), thickness)\n",
        "image = cv.line(image, (100,100), (200,100), (0,0,255), 1)\n",
        "\n",
        "#Show image\n",
        "plt.imshow(image)"
      ]
    },
    {
      "cell_type": "markdown",
      "metadata": {
        "id": "iEGutPj5yJAX"
      },
      "source": [
        "### **6.7.2 การวาดรูปสี่เหลี่ยม**"
      ]
    },
    {
      "cell_type": "code",
      "execution_count": null,
      "metadata": {
        "id": "yfgFqyr_yJAY"
      },
      "outputs": [],
      "source": [
        "#Load python library\n",
        "import cv2 as cv\n",
        "import matplotlib.pyplot as plt\n",
        "\n",
        "#Load image\n",
        "image = cv.imread('image/male_face.jpg')\n",
        "image = cv.cvtColor(image, cv.COLOR_BGR2RGB)\n",
        "\n",
        "#Draw two blue regtangles with thickness of 3 px\n",
        "#cv.rectangle(image, (col_start, row_start), (col_end, row_end), (R,G,B), thickness)\n",
        "image = cv.rectangle(image,(70,125), (140,170), (0,0,255), 3)\n",
        "\n",
        "#cv.rectangle(image, (col_start, row_start), (col_end, row_end), (R,G,B), thickness)\n",
        "image = cv.rectangle(image, (150,125), (220,170), (0,0,255), 3)\n",
        "\n",
        "#Show image\n",
        "plt.imshow(image)"
      ]
    },
    {
      "cell_type": "markdown",
      "metadata": {
        "id": "HbuvcohlyJAY"
      },
      "source": [
        "### **6.7.3 การวาดรูปวงกลม**"
      ]
    },
    {
      "cell_type": "code",
      "execution_count": null,
      "metadata": {
        "id": "E1LLk5YJyJAZ"
      },
      "outputs": [],
      "source": [
        "#Load python library\n",
        "import cv2 as cv\n",
        "import matplotlib.pyplot as plt\n",
        "\n",
        "#Load image\n",
        "image = cv.imread('image/male_face.jpg')\n",
        "image = cv.cvtColor(image, cv.COLOR_BGR2RGB)\n",
        "\n",
        "#Draw two green cycles with thickness of 1 px\n",
        "#cv.circle(image, (col_center, row_center), radius, (R, G, B), thickness)\n",
        "image = cv.circle(image, (105,147), 35, (0,255,0), 1)\n",
        "\n",
        "image = cv.circle(image, (185,147), 35, (0,255,0), 1)\n",
        "\n",
        "#Show image\n",
        "plt.imshow(image)"
      ]
    },
    {
      "cell_type": "markdown",
      "metadata": {
        "id": "VCDpLRpLyJAa"
      },
      "source": [
        "### **6.7.4 การวาดรูปวงกลมทึบ**"
      ]
    },
    {
      "cell_type": "code",
      "execution_count": null,
      "metadata": {
        "id": "1UNuXPlcyJAb"
      },
      "outputs": [],
      "source": [
        "#Load python library\n",
        "import cv2 as cv\n",
        "import matplotlib.pyplot as plt\n",
        "\n",
        "#Load image\n",
        "image = cv.imread('image/male_face.jpg')\n",
        "image = cv.cvtColor(image, cv.COLOR_BGR2RGB)\n",
        "\n",
        "# Draw two green cycles with thickness of -1 px\n",
        "#cv.circle(image, (col_center, row_center), radius, (R, G, B), thickness)\n",
        "image = cv.circle(image, (105,147), 35, (0,255,0), -1)\n",
        "\n",
        "image = cv.circle(image, (185,147), 35, (0,255,0), -1)\n",
        "\n",
        "#Show image\n",
        "plt.imshow(image)"
      ]
    },
    {
      "cell_type": "markdown",
      "metadata": {
        "id": "R3T2kOpCyJAc"
      },
      "source": [
        "### **6.7.5 การวาดรูปวงรี**"
      ]
    },
    {
      "cell_type": "code",
      "execution_count": null,
      "metadata": {
        "id": "_KQhfO2NyJAd"
      },
      "outputs": [],
      "source": [
        "#Load python library\n",
        "import cv2 as cv\n",
        "import matplotlib.pyplot as plt\n",
        "\n",
        "#Load image\n",
        "image = cv.imread('image/male_face.jpg')\n",
        "image = cv.cvtColor(image, cv.COLOR_BGR2RGB)\n",
        "\n",
        "#Draw a red ellipse with thickness of 1 px\n",
        "#cv.ellipse(image, (col_center, row_center), (x_radius, y_radius),\n",
        "#                  angle, startAngle, endAngle, color, thickness)\n",
        "image = cv.ellipse(image,(148,238), (38,15), 0, 0, 360, (255,0,0), 1)\n",
        "\n",
        "#Show image\n",
        "plt.imshow(image)"
      ]
    },
    {
      "cell_type": "markdown",
      "metadata": {
        "id": "SN_yiYusyJAd"
      },
      "source": [
        "### **6.7.6 การวาดรูปวงรีทึบ**"
      ]
    },
    {
      "cell_type": "code",
      "execution_count": null,
      "metadata": {
        "id": "c1osBLb3yJAe"
      },
      "outputs": [],
      "source": [
        "#Load python library\n",
        "import cv2 as cv\n",
        "import matplotlib.pyplot as plt\n",
        "\n",
        "#Load image\n",
        "image = cv.imread('image/male_face.jpg')\n",
        "image = cv.cvtColor(image, cv.COLOR_BGR2RGB)\n",
        "\n",
        "# Draw a red ellips with thickness of -1 px\n",
        "#cv.ellipse(image, (col_center, row_center), (x_radius, y_radius),\n",
        "#                  angle, startAngle, endAngle, color, thickness)\n",
        "image = cv.ellipse(image,(148,238), (38,15), 0, 0, 360, (255,0,0), -1)\n",
        "\n",
        "#Show image\n",
        "plt.imshow(image)"
      ]
    },
    {
      "cell_type": "markdown",
      "metadata": {
        "id": "2uEtm52_yJAe"
      },
      "source": [
        "### **6.7.7 การวาดรูปหลายเหลี่ยม**"
      ]
    },
    {
      "cell_type": "code",
      "execution_count": null,
      "metadata": {
        "id": "4y7At3aFyJAg"
      },
      "outputs": [],
      "source": [
        "#Load python library\n",
        "import cv2 as cv\n",
        "import matplotlib.pyplot as plt\n",
        "import numpy as np\n",
        "\n",
        "#Load image\n",
        "image = cv.imread('image/male_face.jpg')\n",
        "image = cv.cvtColor(image, cv.COLOR_BGR2RGB)\n",
        "\n",
        "#Draw a red polygon with thickness of 1 px\n",
        "#cv.polylines(image, points, isClosed, (R,G,B), thickness)\n",
        "pts = np.array([[60,55], [225,55], [175,300], [110,300]])\n",
        "\n",
        "image = cv.polylines(image, [pts], True, (255, 0, 0), 1)\n",
        "\n",
        "#Show image\n",
        "plt.imshow(image)"
      ]
    },
    {
      "cell_type": "markdown",
      "metadata": {
        "id": "503s4BGayJAg"
      },
      "source": [
        "## **6.8 การเขียนข้อความลงบนภาพ (Adding Text)**"
      ]
    },
    {
      "cell_type": "code",
      "execution_count": null,
      "metadata": {
        "id": "IuXBM0TyyJAh"
      },
      "outputs": [],
      "source": [
        "#Load python library\n",
        "import cv2 as cv\n",
        "import matplotlib.pyplot as plt\n",
        "\n",
        "#Load image\n",
        "image = cv.imread('image/male_face.jpg')\n",
        "image = cv.cvtColor(image, cv.COLOR_BGR2RGB)\n",
        "\n",
        "#Add a dark text with thickness of 2 px\n",
        "#cv.putText(image,text,point,font,fontScale,color,thickness,lineType)\n",
        "font = cv.FONT_HERSHEY_SIMPLEX\n",
        "cv.putText(image,'John', (105,100), font, 1, (0,255,0), 2,cv.LINE_AA)\n",
        "\n",
        "#Show image\n",
        "plt.imshow(image)"
      ]
    }
  ],
  "metadata": {
    "colab": {
      "provenance": [],
      "include_colab_link": true
    },
    "kernelspec": {
      "display_name": "Python 3",
      "language": "python",
      "name": "python3"
    },
    "language_info": {
      "codemirror_mode": {
        "name": "ipython",
        "version": 3
      },
      "file_extension": ".py",
      "mimetype": "text/x-python",
      "name": "python",
      "nbconvert_exporter": "python",
      "pygments_lexer": "ipython3",
      "version": "3.12.5"
    }
  },
  "nbformat": 4,
  "nbformat_minor": 0
}